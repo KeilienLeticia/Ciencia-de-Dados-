{
 "cells": [
  {
   "cell_type": "code",
   "execution_count": null,
   "metadata": {
    "vscode": {
     "languageId": "plaintext"
    }
   },
   "outputs": [],
   "source": [
    "\n",
    "pip install pyinstaller                      # - caso nao tenha instalado \n",
    "pip install --upgrade pyinstaller            #instalar com upgrade atualização\n",
    "\n",
    " \n",
    "pip install --trusted-host pypi.org --trusted-host files.pythonhosted.org pyinstaller   -- se der erro ssl\n",
    "\n",
    "\n",
    "Modo oculto no windows (noconsole) adicionar isso antes do nome do arquivo\n",
    "Para criar um executavel - e deixar tela preta\n",
    "pyinstaller --onefile --noconsole \"C:\\Users\\Leticia\\Desktop\\Python-Banco de Dados\\Banco de dados\\Arquivo formato py\\Carga_cliente.py\"\n",
    "\n",
    "\n",
    "\n",
    "\n",
    "\n",
    "\n",
    "inserir via interface grafica\n",
    "pip install auto-py-to-exe\n",
    "pip install -U auto-py-to-exe  -  inserir para upgrade\n",
    "em formato py\n",
    "auto-py-to-exe   - digitar no prompt comando\n"
   ]
  }
 ],
 "metadata": {
  "kernelspec": {
   "display_name": "Python 3",
   "language": "python",
   "name": "python3"
  },
  "language_info": {
   "codemirror_mode": {
    "name": "ipython",
    "version": 3
   },
   "file_extension": ".py",
   "mimetype": "text/x-python",
   "name": "python",
   "nbconvert_exporter": "python",
   "pygments_lexer": "ipython3",
   "version": "3.11.4"
  },
  "orig_nbformat": 4
 },
 "nbformat": 4,
 "nbformat_minor": 2
}
