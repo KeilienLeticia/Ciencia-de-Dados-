{
 "cells": [
  {
   "cell_type": "code",
   "execution_count": 3,
   "metadata": {},
   "outputs": [],
   "source": [
    "import pandas as pd\n",
    "import os"
   ]
  },
  {
   "cell_type": "code",
   "execution_count": 4,
   "metadata": {},
   "outputs": [
    {
     "ename": "ValueError",
     "evalue": "Excel file format cannot be determined, you must specify an engine manually.",
     "output_type": "error",
     "traceback": [
      "\u001b[1;31m---------------------------------------------------------------------------\u001b[0m",
      "\u001b[1;31mValueError\u001b[0m                                Traceback (most recent call last)",
      "Cell \u001b[1;32mIn[4], line 11\u001b[0m\n\u001b[0;32m      9\u001b[0m \u001b[38;5;28;01mif\u001b[39;00m arquivo\u001b[38;5;241m.\u001b[39mendswith(\u001b[38;5;124m'\u001b[39m\u001b[38;5;124m.xlsx\u001b[39m\u001b[38;5;124m'\u001b[39m):\n\u001b[0;32m     10\u001b[0m     caminho_arquivo \u001b[38;5;241m=\u001b[39m os\u001b[38;5;241m.\u001b[39mpath\u001b[38;5;241m.\u001b[39mjoin(diretorio, arquivo)\n\u001b[1;32m---> 11\u001b[0m     df \u001b[38;5;241m=\u001b[39m pd\u001b[38;5;241m.\u001b[39mread_excel(caminho_arquivo)\n\u001b[0;32m     12\u001b[0m     dados\u001b[38;5;241m.\u001b[39mappend(df)\n\u001b[0;32m     14\u001b[0m     \u001b[38;5;66;03m# Consolidar os dados em um único DataFrame\u001b[39;00m\n",
      "File \u001b[1;32mc:\\Users\\Leticia\\anaconda3\\Lib\\site-packages\\pandas\\io\\excel\\_base.py:478\u001b[0m, in \u001b[0;36mread_excel\u001b[1;34m(io, sheet_name, header, names, index_col, usecols, dtype, engine, converters, true_values, false_values, skiprows, nrows, na_values, keep_default_na, na_filter, verbose, parse_dates, date_parser, date_format, thousands, decimal, comment, skipfooter, storage_options, dtype_backend)\u001b[0m\n\u001b[0;32m    476\u001b[0m \u001b[38;5;28;01mif\u001b[39;00m \u001b[38;5;129;01mnot\u001b[39;00m \u001b[38;5;28misinstance\u001b[39m(io, ExcelFile):\n\u001b[0;32m    477\u001b[0m     should_close \u001b[38;5;241m=\u001b[39m \u001b[38;5;28;01mTrue\u001b[39;00m\n\u001b[1;32m--> 478\u001b[0m     io \u001b[38;5;241m=\u001b[39m ExcelFile(io, storage_options\u001b[38;5;241m=\u001b[39mstorage_options, engine\u001b[38;5;241m=\u001b[39mengine)\n\u001b[0;32m    479\u001b[0m \u001b[38;5;28;01melif\u001b[39;00m engine \u001b[38;5;129;01mand\u001b[39;00m engine \u001b[38;5;241m!=\u001b[39m io\u001b[38;5;241m.\u001b[39mengine:\n\u001b[0;32m    480\u001b[0m     \u001b[38;5;28;01mraise\u001b[39;00m \u001b[38;5;167;01mValueError\u001b[39;00m(\n\u001b[0;32m    481\u001b[0m         \u001b[38;5;124m\"\u001b[39m\u001b[38;5;124mEngine should not be specified when passing \u001b[39m\u001b[38;5;124m\"\u001b[39m\n\u001b[0;32m    482\u001b[0m         \u001b[38;5;124m\"\u001b[39m\u001b[38;5;124man ExcelFile - ExcelFile already has the engine set\u001b[39m\u001b[38;5;124m\"\u001b[39m\n\u001b[0;32m    483\u001b[0m     )\n",
      "File \u001b[1;32mc:\\Users\\Leticia\\anaconda3\\Lib\\site-packages\\pandas\\io\\excel\\_base.py:1500\u001b[0m, in \u001b[0;36mExcelFile.__init__\u001b[1;34m(self, path_or_buffer, engine, storage_options)\u001b[0m\n\u001b[0;32m   1496\u001b[0m     ext \u001b[38;5;241m=\u001b[39m inspect_excel_format(\n\u001b[0;32m   1497\u001b[0m         content_or_path\u001b[38;5;241m=\u001b[39mpath_or_buffer, storage_options\u001b[38;5;241m=\u001b[39mstorage_options\n\u001b[0;32m   1498\u001b[0m     )\n\u001b[0;32m   1499\u001b[0m     \u001b[38;5;28;01mif\u001b[39;00m ext \u001b[38;5;129;01mis\u001b[39;00m \u001b[38;5;28;01mNone\u001b[39;00m:\n\u001b[1;32m-> 1500\u001b[0m         \u001b[38;5;28;01mraise\u001b[39;00m \u001b[38;5;167;01mValueError\u001b[39;00m(\n\u001b[0;32m   1501\u001b[0m             \u001b[38;5;124m\"\u001b[39m\u001b[38;5;124mExcel file format cannot be determined, you must specify \u001b[39m\u001b[38;5;124m\"\u001b[39m\n\u001b[0;32m   1502\u001b[0m             \u001b[38;5;124m\"\u001b[39m\u001b[38;5;124man engine manually.\u001b[39m\u001b[38;5;124m\"\u001b[39m\n\u001b[0;32m   1503\u001b[0m         )\n\u001b[0;32m   1505\u001b[0m engine \u001b[38;5;241m=\u001b[39m config\u001b[38;5;241m.\u001b[39mget_option(\u001b[38;5;124mf\u001b[39m\u001b[38;5;124m\"\u001b[39m\u001b[38;5;124mio.excel.\u001b[39m\u001b[38;5;132;01m{\u001b[39;00mext\u001b[38;5;132;01m}\u001b[39;00m\u001b[38;5;124m.reader\u001b[39m\u001b[38;5;124m\"\u001b[39m, silent\u001b[38;5;241m=\u001b[39m\u001b[38;5;28;01mTrue\u001b[39;00m)\n\u001b[0;32m   1506\u001b[0m \u001b[38;5;28;01mif\u001b[39;00m engine \u001b[38;5;241m==\u001b[39m \u001b[38;5;124m\"\u001b[39m\u001b[38;5;124mauto\u001b[39m\u001b[38;5;124m\"\u001b[39m:\n",
      "\u001b[1;31mValueError\u001b[0m: Excel file format cannot be determined, you must specify an engine manually."
     ]
    }
   ],
   "source": [
    "\n",
    "# Diretório dos arquivos Excel\n",
    "diretorio = (r\"C:\\Users\\Leticia\\Desktop\\Python-Banco de Dados\\Banco de dados\\Origem\\arquivos_excel\\Consolidar\\Arquivos consolidados\")\n",
    "\n",
    "# Lista para armazenar os dados dos arquivos\n",
    "dados = []\n",
    "\n",
    "# Iterar sobre os arquivos Excel no diretório\n",
    "for arquivo in os.listdir(diretorio):\n",
    "    if arquivo.endswith('.xlsx'):\n",
    "        caminho_arquivo = os.path.join(diretorio, arquivo)\n",
    "        df = pd.read_excel(caminho_arquivo)\n",
    "        dados.append(df)\n",
    "\n",
    "        # Consolidar os dados em um único DataFrame\n",
    "consolidado = pd.concat(dados)\n",
    "#consolidado\n",
    "\n"
   ]
  },
  {
   "attachments": {},
   "cell_type": "markdown",
   "metadata": {},
   "source": [
    "##### Verificar se arquivo ja existe e excluir \n"
   ]
  },
  {
   "cell_type": "code",
   "execution_count": 5,
   "metadata": {},
   "outputs": [
    {
     "ename": "NameError",
     "evalue": "name 'consolidado' is not defined",
     "output_type": "error",
     "traceback": [
      "\u001b[1;31m---------------------------------------------------------------------------\u001b[0m",
      "\u001b[1;31mNameError\u001b[0m                                 Traceback (most recent call last)",
      "Cell \u001b[1;32mIn[5], line 19\u001b[0m\n\u001b[0;32m     14\u001b[0m     os\u001b[38;5;241m.\u001b[39mremove(Caminho_Completo)\n\u001b[0;32m     15\u001b[0m     \u001b[38;5;66;03m#print(f\"Arquivo {nome_arquivo} existente foi excluído.\")\u001b[39;00m\n\u001b[0;32m     16\u001b[0m \n\u001b[0;32m     17\u001b[0m \n\u001b[0;32m     18\u001b[0m     \u001b[38;5;66;03m# Salvar o DataFrame como arquivo Excel\u001b[39;00m\n\u001b[1;32m---> 19\u001b[0m consolidado\u001b[38;5;241m.\u001b[39mto_excel(Caminho_Completo, index\u001b[38;5;241m=\u001b[39m\u001b[38;5;28;01mFalse\u001b[39;00m)\n",
      "\u001b[1;31mNameError\u001b[0m: name 'consolidado' is not defined"
     ]
    }
   ],
   "source": [
    "# Caminho da pasta onde será salvo o arquivo Excel\n",
    "#vai pegar os arquivo dentro da planilha repor \n",
    "pasta_destino = r'C:\\Users\\Leticia\\Desktop\\Python-Banco de Dados\\\\Banco de dados\\Origem\\\\arquivos_excel\\Consolidar\\\\Arquivos consolidados\\\\'\n",
    "\n",
    "# Nome do arquivo Excel (variável)\n",
    "nome_arquivo = 'VendasGeraldelete.xlsx'\n",
    "\n",
    "# Caminho completo do arquivo Excel\n",
    "Caminho_Completo = pasta_destino + nome_arquivo \n",
    "\n",
    "# Verificar se o arquivo Excel já existe\n",
    "if os.path.exists(Caminho_Completo):\n",
    "    # Excluir o arquivo existente\n",
    "    os.remove(Caminho_Completo)\n",
    "    #print(f\"Arquivo {nome_arquivo} existente foi excluído.\")\n",
    "\n",
    "\n",
    "    # Salvar o DataFrame como arquivo Excel\n",
    "consolidado.to_excel(Caminho_Completo, index=False)\n"
   ]
  },
  {
   "cell_type": "code",
   "execution_count": null,
   "metadata": {},
   "outputs": [],
   "source": [
    "import os\n",
    "import pandas as pd\n",
    "\n",
    "pasta_destino = r'C:\\Users\\Leticia\\Desktop\\Python-Banco de Dados\\\\Banco de dados\\Origem\\\\arquivos_excel\\Consolidar\\\\Arquivos consolidados\\\\'\n",
    "nome_arquivo = 'VendasGeraldelete01.xlsx'\n",
    "Caminho_Completo = pasta_destino + nome_arquivo \n",
    "\n",
    "# Verificar se o arquivo Excel já existe\n",
    "if os.path.exists(Caminho_Completo):\n",
    "    # Excluir o arquivo existente\n",
    "    os.remove(Caminho_Completo)\n",
    "\n",
    "# Salvar o DataFrame como arquivo Excel\n",
    "consolidado.to_excel(Caminho_Completo, index=False)\n"
   ]
  },
  {
   "cell_type": "code",
   "execution_count": null,
   "metadata": {},
   "outputs": [],
   "source": [
    "import pandas as pd\n",
    "import os\n",
    "\n",
    "pasta_destino = r'C:\\Users\\Leticia\\Desktop\\Python-Banco de Dados\\\\Banco de dados\\Origem\\\\arquivos_excel\\Consolidar\\\\Arquivos consolidados\\\\'\n",
    "nome_arquivo = 'VendasGeraldelete03.xlsx'\n",
    "caminho_completo = os.path.join(pasta_destino, nome_arquivo)\n",
    "\n",
    "# Verificar se o arquivo Excel já existe\n",
    "if os.path.exists(caminho_completo):\n",
    "    # Excluir o arquivo existente\n",
    "    os.remove(caminho_completo)\n",
    "\n",
    "# Salvar o DataFrame como arquivo Excel\n",
    "with pd.ExcelWriter(caminho_completo, engine='xlsxwriter') as writer:\n",
    "    consolidado.to_excel(writer, index=False)\n"
   ]
  },
  {
   "cell_type": "code",
   "execution_count": null,
   "metadata": {},
   "outputs": [],
   "source": [
    "import pandas as pd\n",
    "import os\n",
    "\n",
    "pasta_destino = r'C:\\Users\\Leticia\\Desktop\\Python-Banco de Dados\\\\Banco de dados\\Origem\\\\arquivos_excel\\Consolidar\\\\Arquivos consolidados\\\\'\n",
    "nome_arquivo = 'VendasGeraldelete03.xlsx'\n",
    "caminho_completo = os.path.join(pasta_destino, nome_arquivo)\n",
    "\n",
    "# Verificar se o arquivo Excel já existe\n",
    "if os.path.exists(caminho_completo):\n",
    "    # Excluir o arquivo existente\n",
    "    os.remove(caminho_completo)\n",
    "\n",
    "# Criar um objeto ExcelWriter\n",
    "writer = pd.to_excel(caminho_completo, engine='xlsxwriter')\n",
    "\n",
    "# Salvar o DataFrame como arquivo Excel\n",
    "consolidado.to_excel(writer, index=False)\n",
    "\n",
    "# Fechar o objeto ExcelWriter\n",
    "writer.save()\n"
   ]
  },
  {
   "cell_type": "code",
   "execution_count": null,
   "metadata": {},
   "outputs": [],
   "source": [
    "import pandas as pd\n",
    "import os\n",
    "from openpyxl import Workbook\n",
    "\n",
    "pasta_destino = r'C:\\Users\\Leticia\\Desktop\\Python-Banco de Dados\\\\Banco de dados\\Origem\\\\arquivos_excel\\Consolidar\\\\Arquivos consolidados\\\\'\n",
    "nome_arquivo = 'VendasGeraldelete05.xlsx'\n",
    "caminho_completo = os.path.join(pasta_destino, nome_arquivo)\n",
    "\n",
    "# Verificar se o arquivo Excel já existe\n",
    "if os.path.exists(caminho_completo):\n",
    "    # Excluir o arquivo existente\n",
    "    os.remove(caminho_completo)\n",
    "\n",
    "# Criar um novo arquivo Excel usando openpyxl\n",
    "wb = Workbook()\n",
    "ws = wb.active\n",
    "\n",
    "# Converter o DataFrame para um formato que pode ser inserido no arquivo Excel\n",
    "data = consolidado.values.tolist()\n",
    "\n",
    "# Adicionar os dados do DataFrame ao arquivo Excel\n",
    "for row in data:\n",
    "    ws.append(row)\n",
    "\n",
    "# Salvar o arquivo Excel\n",
    "wb.save(caminho_completo)\n",
    "\n"
   ]
  },
  {
   "cell_type": "code",
   "execution_count": null,
   "metadata": {},
   "outputs": [],
   "source": [
    "import pandas as pd\n",
    "import os\n",
    "\n",
    "pasta_destino = r'C:\\Users\\Leticia\\Desktop\\Python-Banco de Dados\\Banco de dados\\Origem\\arquivos_excel\\Consolidar\\Arquivos consolidados\\\\'\n",
    "nome_arquivo = 'VendasGeraldelete06.xlsx'\n",
    "caminho_completo = os.path.join(pasta_destino, nome_arquivo)\n",
    "\n",
    "# Verificar se o arquivo Excel já existe\n",
    "if os.path.exists(caminho_completo):\n",
    "    # Carregar o arquivo existente\n",
    "    consolidado_existente = pd.read_excel(caminho_completo)\n",
    "    \n",
    "    # Atualizar o arquivo existente com os novos dados (supondo que você tenha um DataFrame chamado \"novo_consolidado\")\n",
    "    consolidado_existente = consolidado_existente.append(consolidado, ignore_index=True)\n",
    "    \n",
    "    # Salvar o DataFrame atualizado no mesmo arquivo Excel\n",
    "    consolidado_existente.to_excel(caminho_completo, index=False)\n",
    "    print(\"Dados adicionados ao arquivo existente.\")\n",
    "else:\n",
    "    # Criar um novo arquivo Excel\n",
    "    consolidado.to_excel(caminho_completo, index=False)\n",
    "    print(\"Novo arquivo consolidado criado e salvo com sucesso!\")\n"
   ]
  }
 ],
 "metadata": {
  "kernelspec": {
   "display_name": "Python 3",
   "language": "python",
   "name": "python3"
  },
  "language_info": {
   "codemirror_mode": {
    "name": "ipython",
    "version": 3
   },
   "file_extension": ".py",
   "mimetype": "text/x-python",
   "name": "python",
   "nbconvert_exporter": "python",
   "pygments_lexer": "ipython3",
   "version": "3.11.5"
  },
  "orig_nbformat": 4
 },
 "nbformat": 4,
 "nbformat_minor": 2
}
