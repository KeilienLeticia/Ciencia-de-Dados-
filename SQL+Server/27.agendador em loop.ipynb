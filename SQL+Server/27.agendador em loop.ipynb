{
 "cells": [
  {
   "cell_type": "markdown",
   "metadata": {},
   "source": [
    "https://schedule.readthedocs.io/en/stable/"
   ]
  },
  {
   "cell_type": "code",
   "execution_count": null,
   "metadata": {},
   "outputs": [],
   "source": [
    "https://pypi.org/project/schedule/\n",
    "\n",
    "https://docs.python.org/pt-br/3/library/sched.html\n"
   ]
  },
  {
   "cell_type": "code",
   "execution_count": null,
   "metadata": {},
   "outputs": [],
   "source": [
    "# pip install schedule\n",
    "# pip install -- upgrade schedule"
   ]
  },
  {
   "cell_type": "code",
   "execution_count": 2,
   "metadata": {},
   "outputs": [
    {
     "ename": "KeyboardInterrupt",
     "evalue": "",
     "output_type": "error",
     "traceback": [
      "\u001b[1;31m---------------------------------------------------------------------------\u001b[0m",
      "\u001b[1;31mKeyboardInterrupt\u001b[0m                         Traceback (most recent call last)",
      "Cell \u001b[1;32mIn[2], line 21\u001b[0m\n\u001b[0;32m     19\u001b[0m \u001b[38;5;28;01mwhile\u001b[39;00m \u001b[38;5;28;01mTrue\u001b[39;00m: \u001b[38;5;66;03m# loop contínuo\u001b[39;00m\n\u001b[0;32m     20\u001b[0m     schedule\u001b[38;5;241m.\u001b[39mrun_pending()  \u001b[38;5;66;03m# Executa tarefas agendadas que estão prontas para serem executadas\u001b[39;00m\n\u001b[1;32m---> 21\u001b[0m     time\u001b[38;5;241m.\u001b[39msleep(\u001b[38;5;241m1\u001b[39m)\n",
      "\u001b[1;31mKeyboardInterrupt\u001b[0m: "
     ]
    }
   ],
   "source": [
    "import schedule  # Importa agendamento de tarefas\n",
    "import time  # Importa a biblioteca 'time' para pausas de tempo\n",
    "\n",
    "def job():                      # def = uma função depois de o nome dessa função\n",
    "    print(\"estou funcionando\")  # Imprime uma mensagem indicando (Trocar pelo seu script)\n",
    "\n",
    "# Agendando tarefas com diferentes intervalos e horários\n",
    "schedule.every(10).minutes.do(job)                              # Executa a cada 10 minutos\n",
    "schedule.every().hour.do(job)                                   # Executa a cada hora\n",
    "schedule.every().day.at(\"10:30\").do(job)                        # Executa diariamente às 10:30\n",
    "schedule.every().monday.do(job)                                 # Executa toda segunda-feira\n",
    "schedule.every().wednesday.at(\"13:15\").do(job)                  # Executa toda quarta-feira às 13:15\n",
    "schedule.every().day.at(\"12:42\", \"Europe/Amsterdam\").do(job)    # Executa diariamente às 12:42 (usando fuso horário Europe/Amsterdam)\n",
    "schedule.every().day.at(\"12:42\").do(job)                        # Executa diariamente às 12:42 (usando fuso horário Seu PC)\n",
    "schedule.every().minute.at(\":17\").do(job)                       # Executa' a cada minuto quando o segundo é 17\n",
    "\n",
    "# Executar as tarefas agendadas em um loop contínuo\n",
    "\n",
    "while True: # loop contínuo\n",
    "    schedule.run_pending()  # Executa tarefas agendadas que estão prontas para serem executadas\n",
    "    time.sleep(1)  # Pausa por 1 segundo antes de verificar novamente as tarefas agendadas(em segundos )\n",
    "\n",
    "    # # # # dentro da job tenho que escolher quando ira rodas por dia\n"
   ]
  },
  {
   "cell_type": "code",
   "execution_count": null,
   "metadata": {},
   "outputs": [],
   "source": [
    "# Esse erro : ModuleNotFoundError: No module named 'schedule' copiei a pasta lib  schedule e colei"
   ]
  },
  {
   "cell_type": "code",
   "execution_count": 3,
   "metadata": {},
   "outputs": [],
   "source": [
    "schedule.clear()"
   ]
  },
  {
   "cell_type": "code",
   "execution_count": null,
   "metadata": {},
   "outputs": [],
   "source": [
    "# import schedule\n",
    "# import time\n",
    "# import threading\n",
    "\n",
    "# def job():\n",
    "#     print(\"estou funcionando\")\n",
    "\n",
    "# # Agendando tarefas com diferentes intervalos e horários\n",
    "# schedule.every(10).minutes.do(job)\n",
    "# schedule.every().hour.do(job)\n",
    "# schedule.every().day.at(\"10:30\").do(job)\n",
    "# schedule.every().monday.do(job)\n",
    "# schedule.every().wednesday.at(\"13:15\").do(job)\n",
    "# schedule.every().day.at(\"12:42\", \"Europe/Amsterdam\").do(job)\n",
    "# schedule.every().day.at(\"12:42\").do(job)\n",
    "# schedule.every().minute.at(\":17\").do(job)\n",
    "\n",
    "# def run_continuously(interval=1):\n",
    "#     \"\"\"Executa agendamentos em um loop contínuo em um thread.\"\"\"\n",
    "#     cease_continuous_run = threading.Event()\n",
    "\n",
    "#     class ScheduleThread(threading.Thread):\n",
    "#         @classmethod\n",
    "#         def run(cls):\n",
    "#             while not cease_continuous_run.is_set():\n",
    "#                 schedule.run_pending()\n",
    "#                 time.sleep(interval)\n",
    "\n",
    "#     continuous_thread = ScheduleThread()\n",
    "#     continuous_thread.start()\n",
    "#     return cease_continuous_run\n",
    "\n",
    "# # Iniciar o agendamento contínuo\n",
    "# stop_run_continuously = run_continuously()\n",
    "\n",
    "# # Para parar o agendamento, chame: stop_run_continuously.set()\n"
   ]
  },
  {
   "cell_type": "code",
   "execution_count": 4,
   "metadata": {},
   "outputs": [],
   "source": [
    "schedule.clear()  # limpar todas as jobs\n",
    "## intenroperno CMD ou Terminal \n",
    "# Ctrl + \\\n",
    "# Ctrl + C"
   ]
  },
  {
   "cell_type": "markdown",
   "metadata": {},
   "source": [
    "Exemplo pratico"
   ]
  },
  {
   "cell_type": "code",
   "execution_count": null,
   "metadata": {},
   "outputs": [],
   "source": [
    "import schedule  \n",
    "import time  \n",
    "\n",
    "\n",
    "def job():                      # def = uma função depois de o nome dessa função\n",
    "    \n",
    "    print(\"Estou funcionando teste Final_3\")  # Colar meu script dando a identação (Tab)\n",
    "    \n",
    "    \n",
    "schedule.every(1).seconds.do(job) \n",
    "while True: # loop contínuo\n",
    "    schedule.run_pending()  # Executa tarefas agendadas que estão prontas para serem executadas\n",
    "    time.sleep(1)  # Pausa por 1 segundo antes de verificar novamente as tarefas agendadas     \n",
    "       "
   ]
  },
  {
   "cell_type": "code",
   "execution_count": 5,
   "metadata": {},
   "outputs": [],
   "source": [
    "schedule.clear()  # limpar todas as jobs"
   ]
  },
  {
   "cell_type": "code",
   "execution_count": 10,
   "metadata": {},
   "outputs": [],
   "source": [
    "dados = pd.read_excel(r\"C:\\Users\\Leticia\\Desktop\\Python-Banco de Dados\\Banco de dados\\Origem\\arquivos_excel\\Categoria.xlsx\")\n",
    "\n"
   ]
  },
  {
   "cell_type": "code",
   "execution_count": 11,
   "metadata": {},
   "outputs": [
    {
     "data": {
      "text/html": [
       "<div>\n",
       "<style scoped>\n",
       "    .dataframe tbody tr th:only-of-type {\n",
       "        vertical-align: middle;\n",
       "    }\n",
       "\n",
       "    .dataframe tbody tr th {\n",
       "        vertical-align: top;\n",
       "    }\n",
       "\n",
       "    .dataframe thead th {\n",
       "        text-align: right;\n",
       "    }\n",
       "</style>\n",
       "<table border=\"1\" class=\"dataframe\">\n",
       "  <thead>\n",
       "    <tr style=\"text-align: right;\">\n",
       "      <th></th>\n",
       "      <th>id</th>\n",
       "      <th>name</th>\n",
       "    </tr>\n",
       "  </thead>\n",
       "  <tbody>\n",
       "    <tr>\n",
       "      <th>0</th>\n",
       "      <td>0</td>\n",
       "      <td>Moda e Acessórios</td>\n",
       "    </tr>\n",
       "    <tr>\n",
       "      <th>1</th>\n",
       "      <td>1</td>\n",
       "      <td>Cosméticos e Perfumaria</td>\n",
       "    </tr>\n",
       "    <tr>\n",
       "      <th>2</th>\n",
       "      <td>2</td>\n",
       "      <td>Eletrodomésticos</td>\n",
       "    </tr>\n",
       "    <tr>\n",
       "      <th>3</th>\n",
       "      <td>3</td>\n",
       "      <td>Livros</td>\n",
       "    </tr>\n",
       "    <tr>\n",
       "      <th>4</th>\n",
       "      <td>4</td>\n",
       "      <td>Celulares</td>\n",
       "    </tr>\n",
       "    <tr>\n",
       "      <th>5</th>\n",
       "      <td>5</td>\n",
       "      <td>Informática</td>\n",
       "    </tr>\n",
       "    <tr>\n",
       "      <th>6</th>\n",
       "      <td>6</td>\n",
       "      <td>Casa e Decoração</td>\n",
       "    </tr>\n",
       "    <tr>\n",
       "      <th>7</th>\n",
       "      <td>7</td>\n",
       "      <td>Eletrônicos</td>\n",
       "    </tr>\n",
       "    <tr>\n",
       "      <th>8</th>\n",
       "      <td>8</td>\n",
       "      <td>Esporte e Lazer</td>\n",
       "    </tr>\n",
       "    <tr>\n",
       "      <th>9</th>\n",
       "      <td>9</td>\n",
       "      <td>Brinquedos e Games</td>\n",
       "    </tr>\n",
       "  </tbody>\n",
       "</table>\n",
       "</div>"
      ],
      "text/plain": [
       "   id                     name\n",
       "0   0        Moda e Acessórios\n",
       "1   1  Cosméticos e Perfumaria\n",
       "2   2         Eletrodomésticos\n",
       "3   3                   Livros\n",
       "4   4                Celulares\n",
       "5   5              Informática\n",
       "6   6         Casa e Decoração\n",
       "7   7              Eletrônicos\n",
       "8   8          Esporte e Lazer\n",
       "9   9       Brinquedos e Games"
      ]
     },
     "metadata": {},
     "output_type": "display_data"
    }
   ],
   "source": [
    "display(dados)"
   ]
  },
  {
   "cell_type": "code",
   "execution_count": 12,
   "metadata": {},
   "outputs": [
    {
     "data": {
      "text/plain": [
       "Index(['id', 'name'], dtype='object')"
      ]
     },
     "execution_count": 12,
     "metadata": {},
     "output_type": "execute_result"
    }
   ],
   "source": [
    "dados.columns"
   ]
  },
  {
   "cell_type": "code",
   "execution_count": 26,
   "metadata": {},
   "outputs": [
    {
     "data": {
      "text/plain": [
       "'Index([id, name], dtype=object)'"
      ]
     },
     "execution_count": 26,
     "metadata": {},
     "output_type": "execute_result"
    }
   ],
   "source": [
    "str(dados.columns).replace(\"'\",\"\") \n"
   ]
  },
  {
   "cell_type": "code",
   "execution_count": 14,
   "metadata": {},
   "outputs": [
    {
     "data": {
      "text/html": [
       "<div>\n",
       "<style scoped>\n",
       "    .dataframe tbody tr th:only-of-type {\n",
       "        vertical-align: middle;\n",
       "    }\n",
       "\n",
       "    .dataframe tbody tr th {\n",
       "        vertical-align: top;\n",
       "    }\n",
       "\n",
       "    .dataframe thead th {\n",
       "        text-align: right;\n",
       "    }\n",
       "</style>\n",
       "<table border=\"1\" class=\"dataframe\">\n",
       "  <thead>\n",
       "    <tr style=\"text-align: right;\">\n",
       "      <th></th>\n",
       "      <th>id</th>\n",
       "      <th>name</th>\n",
       "    </tr>\n",
       "  </thead>\n",
       "  <tbody>\n",
       "    <tr>\n",
       "      <th>0</th>\n",
       "      <td>0</td>\n",
       "      <td>Moda e Acessórios</td>\n",
       "    </tr>\n",
       "    <tr>\n",
       "      <th>1</th>\n",
       "      <td>1</td>\n",
       "      <td>Cosméticos e Perfumaria</td>\n",
       "    </tr>\n",
       "    <tr>\n",
       "      <th>2</th>\n",
       "      <td>2</td>\n",
       "      <td>Eletrodomésticos</td>\n",
       "    </tr>\n",
       "    <tr>\n",
       "      <th>3</th>\n",
       "      <td>3</td>\n",
       "      <td>Livros</td>\n",
       "    </tr>\n",
       "    <tr>\n",
       "      <th>4</th>\n",
       "      <td>4</td>\n",
       "      <td>Celulares</td>\n",
       "    </tr>\n",
       "    <tr>\n",
       "      <th>5</th>\n",
       "      <td>5</td>\n",
       "      <td>Informática</td>\n",
       "    </tr>\n",
       "    <tr>\n",
       "      <th>6</th>\n",
       "      <td>6</td>\n",
       "      <td>Casa e Decoração</td>\n",
       "    </tr>\n",
       "    <tr>\n",
       "      <th>7</th>\n",
       "      <td>7</td>\n",
       "      <td>Eletrônicos</td>\n",
       "    </tr>\n",
       "    <tr>\n",
       "      <th>8</th>\n",
       "      <td>8</td>\n",
       "      <td>Esporte e Lazer</td>\n",
       "    </tr>\n",
       "    <tr>\n",
       "      <th>9</th>\n",
       "      <td>9</td>\n",
       "      <td>Brinquedos e Games</td>\n",
       "    </tr>\n",
       "  </tbody>\n",
       "</table>\n",
       "</div>"
      ],
      "text/plain": [
       "   id                     name\n",
       "0   0        Moda e Acessórios\n",
       "1   1  Cosméticos e Perfumaria\n",
       "2   2         Eletrodomésticos\n",
       "3   3                   Livros\n",
       "4   4                Celulares\n",
       "5   5              Informática\n",
       "6   6         Casa e Decoração\n",
       "7   7              Eletrônicos\n",
       "8   8          Esporte e Lazer\n",
       "9   9       Brinquedos e Games"
      ]
     },
     "execution_count": 14,
     "metadata": {},
     "output_type": "execute_result"
    }
   ],
   "source": [
    "\n",
    "dados.rename(columns={'name': 'Nome'})\n",
    "dados\n",
    "#DataFrame.rename() got an unexpected keyword argument 'Columns' com maiuscula o C"
   ]
  },
  {
   "cell_type": "code",
   "execution_count": null,
   "metadata": {},
   "outputs": [],
   "source": [
    "# Se o tipo de dados id não for int, converta-o antes de inseri-lo no banco de dados:\n",
    "\n",
    "# python\n",
    "# Copiar código\n",
    "# dados['id'] = dados['id'].astype(int)"
   ]
  },
  {
   "cell_type": "code",
   "execution_count": null,
   "metadata": {},
   "outputs": [],
   "source": [
    "import schedule  \n",
    "import time  \n",
    "import pandas as pd\n",
    "import pyodbc \n",
    "\n",
    "\n",
    "\n",
    "def job():  \n",
    "    server = 'LETICIA' \n",
    "    database = 'Python' \n",
    "    conexaoDB = pyodbc.connect('DRIVER={ODBC Driver 17 for SQL Server};'\n",
    "                        f'SERVER={server};'\n",
    "                        f'DATABASE={database};'\n",
    "                        'Trusted_Connection=yes;')\n",
    "\n",
    "    cursor = conexaoDB.cursor()   # criando cursor de comando \n",
    "\n",
    "    dados = pd.read_excel(r\"C:\\Users\\Leticia\\Desktop\\Python-Banco de Dados\\Banco de dados\\Origem\\arquivos_excel\\Categoria.xlsx\")\n",
    "    dados.rename(columns={'name': 'Nome'}, inplace=True)\n",
    "   \n",
    "\n",
    "    # faz carga no banco de dados\n",
    "    for index, linha in dados.iterrows():\n",
    "        \n",
    "        cursor.execute(\"Insert into [Categoria](Id,Nome)values(?,?)\", (linha ['id'],linha ['Nome'])) \n",
    "        \n",
    "    cursor.commit()   \n",
    "    cursor.close() \n",
    "    conexaoDB.close() \n",
    "    \n",
    "schedule.every(10).seconds.do(job) # escolher a frequencia \n",
    "while True: # loop contínuo\n",
    "    schedule.run_pending()  # Executa tarefas agendadas que estão prontas para serem executadas\n",
    "    time.sleep(1)  # Pausa por 1 segundo antes de verificar novamente as tarefas agendadas   \n",
    "    \n",
    "    "
   ]
  },
  {
   "cell_type": "code",
   "execution_count": 14,
   "metadata": {},
   "outputs": [],
   "source": [
    "schedule.clear() "
   ]
  },
  {
   "cell_type": "code",
   "execution_count": 53,
   "metadata": {},
   "outputs": [
    {
     "name": "stdout",
     "output_type": "stream",
     "text": [
      "Tarefas limpas!!!!\n",
      "Loop encerrado\n"
     ]
    }
   ],
   "source": [
    "#  Condição no loop\n",
    "# Você pode adicionar uma condição no loop while para limpar as tarefas agendadas após um certo tempo ou evento. Por exemplo,\n",
    "# você pode usar um contador para limpar as tarefas após um determinado número de execuções.\n",
    "\n",
    "import schedule  \n",
    "import time  \n",
    "import pandas as pd\n",
    "import pyodbc \n",
    "\n",
    "\n",
    "\n",
    "def job():  \n",
    "    server = 'LETICIA' \n",
    "    database = 'Python' \n",
    "    conexaoDB = pyodbc.connect('DRIVER={ODBC Driver 17 for SQL Server};'\n",
    "                        f'SERVER={server};'\n",
    "                        f'DATABASE={database};'\n",
    "                        'Trusted_Connection=yes;')\n",
    "\n",
    "    cursor = conexaoDB.cursor()   # criando cursor de comando \n",
    "\n",
    "    dados = pd.read_excel(r\"C:\\Users\\Leticia\\Desktop\\Python-Banco de Dados\\Banco de dados\\Origem\\arquivos_excel\\Categoria.xlsx\")\n",
    "    dados.rename(columns={'name': 'Nome'}, inplace=True)\n",
    "   \n",
    "\n",
    "    # faz carga no banco de dados\n",
    "    for index, linha in dados.iterrows():\n",
    "        \n",
    "        cursor.execute(\"Insert into [Categoria](Id,Nome)values(?,?)\", (linha ['id'],linha ['Nome'])) \n",
    "        \n",
    "    cursor.commit()   \n",
    "    cursor.close() \n",
    "    conexaoDB.close() \n",
    "schedule.every(10).seconds.do(job) # escolher a frequencia \n",
    "execution_count =0\n",
    "while True: # loop contínuo\n",
    "    schedule.run_pending()  # Executa tarefas agendadas que estão prontas para serem executadas\n",
    "    time.sleep(1)  # Pausa por 1 segundo antes de verificar novamente as tarefas agendadas  \n",
    "    execution_count +=1\n",
    "    \n",
    "    if execution_count > 120: #  # Condição para limpar as tarefas, por exemplo, após 50 execuções e para o loop\n",
    "        schedule.clear() \n",
    "        print(\"Tarefas limpas!!!!\")\n",
    "        break   \n",
    "print(\"Loop encerrado\")\n",
    "\n"
   ]
  },
  {
   "cell_type": "code",
   "execution_count": 50,
   "metadata": {},
   "outputs": [],
   "source": [
    "schedule.clear() "
   ]
  },
  {
   "cell_type": "code",
   "execution_count": null,
   "metadata": {},
   "outputs": [],
   "source": [
    "import schedule\n",
    "import time\n",
    "import pandas as pd\n",
    "import pyodbc\n",
    "\n",
    "def job():\n",
    "    server = 'LETICIA' \n",
    "    database = 'Python' \n",
    "    conexaoDB = pyodbc.connect('DRIVER={ODBC Driver 17 for SQL Server};'\n",
    "                        f'SERVER={server};'\n",
    "                        f'DATABASE={database};'\n",
    "                        'Trusted_Connection=yes;')\n",
    "\n",
    "    cursor = conexaoDB.cursor()   # criando cursor de comando \n",
    "\n",
    "    dados = pd.read_excel(r\"C:\\Users\\Leticia\\Desktop\\Python-Banco de Dados\\Banco de dados\\Origem\\arquivos_excel\\Categoria.xlsx\")\n",
    "    dados.rename(columns={'name': 'Nome'}, inplace=True)\n",
    "\n",
    "    # faz carga no banco de dados\n",
    "    for index, linha in dados.iterrows():\n",
    "        cursor.execute(\"Insert into [Categoria](Id,Nome)values(?,?)\", (linha ['id'],linha ['Nome'])) \n",
    "\n",
    "    cursor.commit()\n",
    "    cursor.close() \n",
    "    conexaoDB.close() \n",
    "\n",
    "schedule.every(10).seconds.do(job) # escolher a frequencia\n",
    "\n",
    "execution_count = 0  # Contador de execuções\n",
    "\n",
    "while True:  # loop contínuo\n",
    "    schedule.run_pending()  # Executa tarefas agendadas que estão prontas para serem executadas\n",
    "    time.sleep(1)\n",
    "    execution_count += 1  # Incrementa o contador a cada loop\n",
    "\n",
    "    if execution_count > 6:  # Condição para limpar as tarefas, por exemplo, após 6 execuções\n",
    "        schedule.clear()\n",
    "        print(\"Todas as tarefas agendadas foram limpas.\")\n",
    "        break  # Encerra o loop principal\n",
    "\n",
    "print(\"Loop principal encerrado.\")\n"
   ]
  },
  {
   "cell_type": "code",
   "execution_count": 5,
   "metadata": {},
   "outputs": [
    {
     "ename": "NameError",
     "evalue": "name 'dados' is not defined",
     "output_type": "error",
     "traceback": [
      "\u001b[1;31m---------------------------------------------------------------------------\u001b[0m",
      "\u001b[1;31mNameError\u001b[0m                                 Traceback (most recent call last)",
      "Cell \u001b[1;32mIn[5], line 1\u001b[0m\n\u001b[1;32m----> 1\u001b[0m dados\n",
      "\u001b[1;31mNameError\u001b[0m: name 'dados' is not defined"
     ]
    }
   ],
   "source": [
    "dados\n"
   ]
  },
  {
   "cell_type": "code",
   "execution_count": null,
   "metadata": {},
   "outputs": [],
   "source": [
    "import schedule  \n",
    "import time  \n",
    "import pandas as pd\n",
    "import pyodbc \n",
    "\n",
    "def job():  \n",
    "    try:\n",
    "        server = 'LETICIA' \n",
    "        database = 'Python' \n",
    "        conexaoDB = pyodbc.connect('DRIVER={ODBC Driver 17 for SQL Server};'\n",
    "                            f'SERVER={server};'\n",
    "                            f'DATABASE={database};'\n",
    "                            'Trusted_Connection=yes;')\n",
    "\n",
    "        cursor = conexaoDB.cursor()  # criando cursor de comando \n",
    "\n",
    "        # Leitura do arquivo Excel\n",
    "        print(\"Lendo arquivo Excel...\")\n",
    "        dados = pd.read_excel(r\"C:\\Users\\Leticia\\Desktop\\Python-Banco de Dados\\Banco de dados\\Origem\\arquivos_excel\\Categoria.xlsx\")\n",
    "        \n",
    "        # Renomeando a coluna 'name' para 'Nome'\n",
    "        print(\"Renomeando colunas...\")\n",
    "        dados = dados.rename(columns={'name': 'Nome'}) \n",
    "        \n",
    "        # Fazendo a carga no banco de dados\n",
    "        print(\"Inserindo dados no banco de dados...\")\n",
    "        for index, linha in dados.iterrows():\n",
    "            cursor.execute(\"INSERT INTO [Categoria] (ID, Nome) VALUES (?, ?)\", linha['id'], linha['Nome'])\n",
    "        \n",
    "        cursor.commit()  # Confirmando a transação\n",
    "        print(\"Dados inseridos com sucesso!\")\n",
    "    except Exception as e:\n",
    "        print(f\"Ocorreu um erro: {e}\")\n",
    "    finally:\n",
    "        cursor.close()  # Fechando o cursor\n",
    "        conexaoDB.close()  # Fechando a conexão\n",
    "\n",
    "# Configurando o agendamento para rodar a cada 10 segundos\n",
    "schedule.every(10).seconds.do(job)\n",
    "\n",
    "# Loop contínuo para executar as tarefas agendadas\n",
    "while True:\n",
    "    schedule.run_pending()  # Executa tarefas agendadas que estão prontas para serem executadas\n",
    "    time.sleep(1)  # Pausa por 1 segundo antes de verificar novamente as tarefas agendadas\n"
   ]
  },
  {
   "cell_type": "markdown",
   "metadata": {},
   "source": [
    "Script em um bloco"
   ]
  },
  {
   "cell_type": "code",
   "execution_count": 13,
   "metadata": {},
   "outputs": [
    {
     "ename": "SystemError",
     "evalue": "<class 'pyodbc.Error'> returned a result with an exception set",
     "output_type": "error",
     "traceback": [
      "\u001b[1;31m---------------------------------------------------------------------------\u001b[0m",
      "\u001b[1;31mKeyboardInterrupt\u001b[0m                         Traceback (most recent call last)",
      "File \u001b[1;32mc:\\Users\\Leticia\\anaconda3\\Lib\\encodings\\utf_16_le.py:15\u001b[0m, in \u001b[0;36mdecode\u001b[1;34m(input, errors)\u001b[0m\n\u001b[0;32m     13\u001b[0m encode \u001b[38;5;241m=\u001b[39m codecs\u001b[38;5;241m.\u001b[39mutf_16_le_encode\n\u001b[1;32m---> 15\u001b[0m \u001b[38;5;28;01mdef\u001b[39;00m \u001b[38;5;21mdecode\u001b[39m(\u001b[38;5;28minput\u001b[39m, errors\u001b[38;5;241m=\u001b[39m\u001b[38;5;124m'\u001b[39m\u001b[38;5;124mstrict\u001b[39m\u001b[38;5;124m'\u001b[39m):\n\u001b[0;32m     16\u001b[0m     \u001b[38;5;28;01mreturn\u001b[39;00m codecs\u001b[38;5;241m.\u001b[39mutf_16_le_decode(\u001b[38;5;28minput\u001b[39m, errors, \u001b[38;5;28;01mTrue\u001b[39;00m)\n",
      "\u001b[1;31mKeyboardInterrupt\u001b[0m: ",
      "\nThe above exception was the direct cause of the following exception:\n",
      "\u001b[1;31mKeyboardInterrupt\u001b[0m                         Traceback (most recent call last)",
      "\u001b[1;31mKeyboardInterrupt\u001b[0m: decoding with 'utf-16le' codec failed (KeyboardInterrupt: )",
      "\nThe above exception was the direct cause of the following exception:\n",
      "\u001b[1;31mSystemError\u001b[0m                               Traceback (most recent call last)",
      "Cell \u001b[1;32mIn[13], line 6\u001b[0m\n\u001b[0;32m      4\u001b[0m server \u001b[38;5;241m=\u001b[39m \u001b[38;5;124m'\u001b[39m\u001b[38;5;124mEDMILSON\u001b[39m\u001b[38;5;124m\\\u001b[39m\u001b[38;5;124mMSSQL\u001b[39m\u001b[38;5;124m'\u001b[39m \n\u001b[0;32m      5\u001b[0m database \u001b[38;5;241m=\u001b[39m \u001b[38;5;124m'\u001b[39m\u001b[38;5;124mPython\u001b[39m\u001b[38;5;124m'\u001b[39m \n\u001b[1;32m----> 6\u001b[0m conexaoDB \u001b[38;5;241m=\u001b[39m pyodbc\u001b[38;5;241m.\u001b[39mconnect(\u001b[38;5;124m'\u001b[39m\u001b[38;5;124mDRIVER=\u001b[39m\u001b[38;5;124m{\u001b[39m\u001b[38;5;124mODBC Driver 17 for SQL Server};\u001b[39m\u001b[38;5;124m'\u001b[39m\n\u001b[0;32m      7\u001b[0m                       \u001b[38;5;124mf\u001b[39m\u001b[38;5;124m'\u001b[39m\u001b[38;5;124mSERVER=\u001b[39m\u001b[38;5;132;01m{\u001b[39;00mserver\u001b[38;5;132;01m}\u001b[39;00m\u001b[38;5;124m;\u001b[39m\u001b[38;5;124m'\u001b[39m\n\u001b[0;32m      8\u001b[0m                       \u001b[38;5;124mf\u001b[39m\u001b[38;5;124m'\u001b[39m\u001b[38;5;124mDATABASE=\u001b[39m\u001b[38;5;132;01m{\u001b[39;00mdatabase\u001b[38;5;132;01m}\u001b[39;00m\u001b[38;5;124m;\u001b[39m\u001b[38;5;124m'\u001b[39m\n\u001b[0;32m      9\u001b[0m                       \u001b[38;5;124m'\u001b[39m\u001b[38;5;124mTrusted_Connection=yes;\u001b[39m\u001b[38;5;124m'\u001b[39m)\n\u001b[0;32m     11\u001b[0m cursor \u001b[38;5;241m=\u001b[39m conexaoDB\u001b[38;5;241m.\u001b[39mcursor()   \u001b[38;5;66;03m# criando cursor de comando \u001b[39;00m\n\u001b[0;32m     13\u001b[0m dados \u001b[38;5;241m=\u001b[39m pd\u001b[38;5;241m.\u001b[39mread_excel(\u001b[38;5;124mr\u001b[39m\u001b[38;5;124m\"\u001b[39m\u001b[38;5;124mC:\u001b[39m\u001b[38;5;124m\\\u001b[39m\u001b[38;5;124mUsers\u001b[39m\u001b[38;5;124m\\\u001b[39m\u001b[38;5;124mLeticia\u001b[39m\u001b[38;5;124m\\\u001b[39m\u001b[38;5;124mDesktop\u001b[39m\u001b[38;5;124m\\\u001b[39m\u001b[38;5;124mPython-Banco de Dados\u001b[39m\u001b[38;5;124m\\\u001b[39m\u001b[38;5;124mBanco de dados\u001b[39m\u001b[38;5;124m\\\u001b[39m\u001b[38;5;124mOrigem\u001b[39m\u001b[38;5;124m\\\u001b[39m\u001b[38;5;124marquivos_excel\u001b[39m\u001b[38;5;124m\\\u001b[39m\u001b[38;5;124mCategoria.xlsx\u001b[39m\u001b[38;5;124m\"\u001b[39m)\n",
      "\u001b[1;31mSystemError\u001b[0m: <class 'pyodbc.Error'> returned a result with an exception set"
     ]
    }
   ],
   "source": [
    "\n",
    "import pandas as pd\n",
    "import pyodbc \n",
    "\n",
    "server = 'EDMILSON\\MSSQL' \n",
    "database = 'Python' \n",
    "conexaoDB = pyodbc.connect('DRIVER={ODBC Driver 17 for SQL Server};'\n",
    "                      f'SERVER={server};'\n",
    "                      f'DATABASE={database};'\n",
    "                      'Trusted_Connection=yes;')\n",
    "\n",
    "cursor = conexaoDB.cursor()   # criando cursor de comando \n",
    "\n",
    "dados = pd.read_excel(r\"C:\\Users\\Leticia\\Desktop\\Python-Banco de Dados\\Banco de dados\\Origem\\arquivos_excel\\Categoria.xlsx\")\n",
    "str(dados.columns).replace(\"'\",\"\") \n",
    "\n",
    "#limpa banco de dados antes da carga \n",
    "cursor.execute('truncate table [Categoria]')  \n",
    "cursor.commit()\n",
    "\n",
    "# faz carga no banco de dados\n",
    "for index, linha in dados.iterrows():\n",
    "    \n",
    "    cursor.execute(\"Insert into [Categoria](ID,Categoria)values(?,?)\",linha.id,linha.Nome) \n",
    "     \n",
    "cursor.commit()   \n",
    "cursor.close() \n",
    "conexaoDB.close() "
   ]
  }
 ],
 "metadata": {
  "kernelspec": {
   "display_name": "Python 3",
   "language": "python",
   "name": "python3"
  },
  "language_info": {
   "codemirror_mode": {
    "name": "ipython",
    "version": 3
   },
   "file_extension": ".py",
   "mimetype": "text/x-python",
   "name": "python",
   "nbconvert_exporter": "python",
   "pygments_lexer": "ipython3",
   "version": "3.11.5"
  },
  "vscode": {
   "interpreter": {
    "hash": "c347c8f9a7ef94e4c9e03b4513be7835ed18f45b99a2a817fb579f408b867b16"
   }
  }
 },
 "nbformat": 4,
 "nbformat_minor": 4
}
