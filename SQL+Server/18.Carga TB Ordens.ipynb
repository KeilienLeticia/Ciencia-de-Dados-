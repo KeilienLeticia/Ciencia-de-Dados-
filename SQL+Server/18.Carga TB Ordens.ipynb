{
 "cells": [
  {
   "cell_type": "code",
   "execution_count": 18,
   "metadata": {},
   "outputs": [
    {
     "data": {
      "text/plain": [
       "'\\nCreate table Ordens(\\nid\\t\\t\\t\\tint,\\ncreated_at       datetime,\\ncustomer_id   int,\\nstatus        nvarchar(255)\\n)\\n\\n'"
      ]
     },
     "execution_count": 18,
     "metadata": {},
     "output_type": "execute_result"
    }
   ],
   "source": [
    "\"\"\"\n",
    "Create table Ordens(\n",
    "id\t\t\t\tint,\n",
    "created_at       datetime,\n",
    "customer_id   int,\n",
    "status        nvarchar(255)\n",
    ")\n",
    "\n",
    "\"\"\""
   ]
  },
  {
   "cell_type": "code",
   "execution_count": 77,
   "metadata": {},
   "outputs": [],
   "source": [
    "\n",
    "import pandas as pd\n",
    "import pyodbc \n",
    "\n",
    "server = 'LETICIA' # Substitua pelo nome do servidor SQL Server\n",
    "database = 'Python'  # Substitua pelo nome do banco de dados\n",
    "conexaoDB = pyodbc.connect('DRIVER={ODBC Driver 17 for SQL Server};'\n",
    "                      f'SERVER={server};'\n",
    "                      f'DATABASE={database};'\n",
    "                      'Trusted_Connection=yes;')\n",
    "\n",
    "cursor = conexaoDB.cursor()   # criando cursor de comando "
   ]
  },
  {
   "cell_type": "code",
   "execution_count": 78,
   "metadata": {},
   "outputs": [],
   "source": [
    "dados = pd.read_excel(r\"C:\\Users\\Leticia\\Desktop\\Python-Banco de Dados\\Banco de dados\\Origem\\arquivos_excel\\Ordens_base.xlsx\")\n",
    "#str(dados.columns).replace(\"'\",\"\") \n",
    "#dados.head(5)\n"
   ]
  },
  {
   "cell_type": "code",
   "execution_count": 79,
   "metadata": {},
   "outputs": [
    {
     "data": {
      "text/plain": [
       "\"Index([' id' , ' created_at' , ' customer_id' , ' pagamento' ], dtype=' object' )\""
      ]
     },
     "execution_count": 79,
     "metadata": {},
     "output_type": "execute_result"
    }
   ],
   "source": [
    "str(dados.columns).replace(\"'\" , \"' \")"
   ]
  },
  {
   "cell_type": "code",
   "execution_count": 22,
   "metadata": {},
   "outputs": [],
   "source": [
    "#cursor.execute('truncate table  [Ordens]')   #executa tarefa de  apagar dados\n",
    "#cursor.commit()"
   ]
  },
  {
   "cell_type": "code",
   "execution_count": 23,
   "metadata": {},
   "outputs": [
    {
     "data": {
      "text/plain": [
       "'Index([id, created_at, customer_id, pagamento], dtype=object)'"
      ]
     },
     "execution_count": 23,
     "metadata": {},
     "output_type": "execute_result"
    }
   ],
   "source": [
    "str(dados.columns).replace(\"'\",\"\")  # coluna de origem "
   ]
  },
  {
   "cell_type": "code",
   "execution_count": 24,
   "metadata": {},
   "outputs": [],
   "source": [
    "\n",
    "#print(dados['total_price'].dtype)\n",
    "#dados['total_price'] = dados['total_price'].astype(float)"
   ]
  },
  {
   "cell_type": "code",
   "execution_count": 25,
   "metadata": {},
   "outputs": [
    {
     "name": "stdout",
     "output_type": "stream",
     "text": [
      "int64\n",
      "datetime64[ns]\n",
      "int64\n",
      "object\n"
     ]
    }
   ],
   "source": [
    "print(dados['id'].dtypes)\n",
    "print(dados['created_at'].dtypes)\n",
    "print(dados['customer_id'].dtypes)\n",
    "print(dados['pagamento'].dtypes)"
   ]
  },
  {
   "cell_type": "code",
   "execution_count": 26,
   "metadata": {},
   "outputs": [],
   "source": [
    "#cursor.execute('delete from [Items]')   #executa tarefa de  apagar dados \n",
    "#cursor.commit()"
   ]
  },
  {
   "cell_type": "code",
   "execution_count": 27,
   "metadata": {},
   "outputs": [],
   "source": [
    "#cursor.execute('delete from [Items]')   #executa tarefa de  apagar dados \n",
    "#cursor.commit()"
   ]
  },
  {
   "cell_type": "code",
   "execution_count": 28,
   "metadata": {},
   "outputs": [
    {
     "data": {
      "text/html": [
       "<div>\n",
       "<style scoped>\n",
       "    .dataframe tbody tr th:only-of-type {\n",
       "        vertical-align: middle;\n",
       "    }\n",
       "\n",
       "    .dataframe tbody tr th {\n",
       "        vertical-align: top;\n",
       "    }\n",
       "\n",
       "    .dataframe thead th {\n",
       "        text-align: right;\n",
       "    }\n",
       "</style>\n",
       "<table border=\"1\" class=\"dataframe\">\n",
       "  <thead>\n",
       "    <tr style=\"text-align: right;\">\n",
       "      <th></th>\n",
       "      <th>id</th>\n",
       "      <th>created_at</th>\n",
       "      <th>customer_id</th>\n",
       "      <th>pagamento</th>\n",
       "    </tr>\n",
       "  </thead>\n",
       "  <tbody>\n",
       "    <tr>\n",
       "      <th>0</th>\n",
       "      <td>0</td>\n",
       "      <td>2019-08-28 03:36:31</td>\n",
       "      <td>91</td>\n",
       "      <td>entregue</td>\n",
       "    </tr>\n",
       "    <tr>\n",
       "      <th>1</th>\n",
       "      <td>1</td>\n",
       "      <td>2019-08-16 20:21:30</td>\n",
       "      <td>7</td>\n",
       "      <td>entregue</td>\n",
       "    </tr>\n",
       "    <tr>\n",
       "      <th>2</th>\n",
       "      <td>2</td>\n",
       "      <td>2019-07-11 11:00:06</td>\n",
       "      <td>26</td>\n",
       "      <td>pagamento_pendente</td>\n",
       "    </tr>\n",
       "    <tr>\n",
       "      <th>3</th>\n",
       "      <td>3</td>\n",
       "      <td>2019-08-27 21:04:41</td>\n",
       "      <td>92</td>\n",
       "      <td>pagamento_pendente</td>\n",
       "    </tr>\n",
       "    <tr>\n",
       "      <th>4</th>\n",
       "      <td>4</td>\n",
       "      <td>2019-11-03 19:58:37</td>\n",
       "      <td>63</td>\n",
       "      <td>entrega_pendente</td>\n",
       "    </tr>\n",
       "    <tr>\n",
       "      <th>...</th>\n",
       "      <td>...</td>\n",
       "      <td>...</td>\n",
       "      <td>...</td>\n",
       "      <td>...</td>\n",
       "    </tr>\n",
       "    <tr>\n",
       "      <th>9995</th>\n",
       "      <td>9995</td>\n",
       "      <td>2020-01-28 03:55:43</td>\n",
       "      <td>0</td>\n",
       "      <td>entrega_pendente</td>\n",
       "    </tr>\n",
       "    <tr>\n",
       "      <th>9996</th>\n",
       "      <td>9996</td>\n",
       "      <td>2019-05-08 00:32:21</td>\n",
       "      <td>58</td>\n",
       "      <td>carrinho</td>\n",
       "    </tr>\n",
       "    <tr>\n",
       "      <th>9997</th>\n",
       "      <td>9997</td>\n",
       "      <td>2019-04-08 10:52:09</td>\n",
       "      <td>6</td>\n",
       "      <td>entregue</td>\n",
       "    </tr>\n",
       "    <tr>\n",
       "      <th>9998</th>\n",
       "      <td>9998</td>\n",
       "      <td>2019-04-18 02:11:43</td>\n",
       "      <td>50</td>\n",
       "      <td>pagamento_pendente</td>\n",
       "    </tr>\n",
       "    <tr>\n",
       "      <th>9999</th>\n",
       "      <td>9999</td>\n",
       "      <td>2020-01-18 08:41:52</td>\n",
       "      <td>54</td>\n",
       "      <td>pagamento_pendente</td>\n",
       "    </tr>\n",
       "  </tbody>\n",
       "</table>\n",
       "<p>10000 rows × 4 columns</p>\n",
       "</div>"
      ],
      "text/plain": [
       "        id          created_at  customer_id           pagamento\n",
       "0        0 2019-08-28 03:36:31           91            entregue\n",
       "1        1 2019-08-16 20:21:30            7            entregue\n",
       "2        2 2019-07-11 11:00:06           26  pagamento_pendente\n",
       "3        3 2019-08-27 21:04:41           92  pagamento_pendente\n",
       "4        4 2019-11-03 19:58:37           63    entrega_pendente\n",
       "...    ...                 ...          ...                 ...\n",
       "9995  9995 2020-01-28 03:55:43            0    entrega_pendente\n",
       "9996  9996 2019-05-08 00:32:21           58            carrinho\n",
       "9997  9997 2019-04-08 10:52:09            6            entregue\n",
       "9998  9998 2019-04-18 02:11:43           50  pagamento_pendente\n",
       "9999  9999 2020-01-18 08:41:52           54  pagamento_pendente\n",
       "\n",
       "[10000 rows x 4 columns]"
      ]
     },
     "execution_count": 28,
     "metadata": {},
     "output_type": "execute_result"
    }
   ],
   "source": [
    "dados"
   ]
  },
  {
   "cell_type": "code",
   "execution_count": 29,
   "metadata": {},
   "outputs": [],
   "source": [
    "#deletar somente uma linha, para visualizar e somente no banco de dados\n",
    "#cursor.execute('DELETE FROM Ordens_base WHERE id = 2')\n",
    "#cursor.commit()"
   ]
  },
  {
   "cell_type": "code",
   "execution_count": 30,
   "metadata": {},
   "outputs": [],
   "source": [
    "#deletar todos as colunas#\n",
    "# uery = \"ALTER TABLE Ordens_base DROP COLUMN id\"\n",
    "#cursor.execute(query)"
   ]
  },
  {
   "cell_type": "code",
   "execution_count": 31,
   "metadata": {},
   "outputs": [],
   "source": [
    "#DF = dados.drop('id', axis=1)\n",
    "#cursor.commit()"
   ]
  },
  {
   "cell_type": "code",
   "execution_count": 32,
   "metadata": {},
   "outputs": [],
   "source": [
    "# Drop a column named 'Column1'\n",
    "#dados.drop('id', axis=1, inplace=True)"
   ]
  },
  {
   "cell_type": "code",
   "execution_count": 33,
   "metadata": {},
   "outputs": [
    {
     "data": {
      "text/html": [
       "<div>\n",
       "<style scoped>\n",
       "    .dataframe tbody tr th:only-of-type {\n",
       "        vertical-align: middle;\n",
       "    }\n",
       "\n",
       "    .dataframe tbody tr th {\n",
       "        vertical-align: top;\n",
       "    }\n",
       "\n",
       "    .dataframe thead th {\n",
       "        text-align: right;\n",
       "    }\n",
       "</style>\n",
       "<table border=\"1\" class=\"dataframe\">\n",
       "  <thead>\n",
       "    <tr style=\"text-align: right;\">\n",
       "      <th></th>\n",
       "      <th>id</th>\n",
       "      <th>created_at</th>\n",
       "      <th>customer_id</th>\n",
       "      <th>pagamento</th>\n",
       "    </tr>\n",
       "  </thead>\n",
       "  <tbody>\n",
       "    <tr>\n",
       "      <th>0</th>\n",
       "      <td>0</td>\n",
       "      <td>2019-08-28 03:36:31</td>\n",
       "      <td>91</td>\n",
       "      <td>entregue</td>\n",
       "    </tr>\n",
       "    <tr>\n",
       "      <th>1</th>\n",
       "      <td>1</td>\n",
       "      <td>2019-08-16 20:21:30</td>\n",
       "      <td>7</td>\n",
       "      <td>entregue</td>\n",
       "    </tr>\n",
       "    <tr>\n",
       "      <th>2</th>\n",
       "      <td>2</td>\n",
       "      <td>2019-07-11 11:00:06</td>\n",
       "      <td>26</td>\n",
       "      <td>pagamento_pendente</td>\n",
       "    </tr>\n",
       "    <tr>\n",
       "      <th>3</th>\n",
       "      <td>3</td>\n",
       "      <td>2019-08-27 21:04:41</td>\n",
       "      <td>92</td>\n",
       "      <td>pagamento_pendente</td>\n",
       "    </tr>\n",
       "    <tr>\n",
       "      <th>4</th>\n",
       "      <td>4</td>\n",
       "      <td>2019-11-03 19:58:37</td>\n",
       "      <td>63</td>\n",
       "      <td>entrega_pendente</td>\n",
       "    </tr>\n",
       "    <tr>\n",
       "      <th>...</th>\n",
       "      <td>...</td>\n",
       "      <td>...</td>\n",
       "      <td>...</td>\n",
       "      <td>...</td>\n",
       "    </tr>\n",
       "    <tr>\n",
       "      <th>9995</th>\n",
       "      <td>9995</td>\n",
       "      <td>2020-01-28 03:55:43</td>\n",
       "      <td>0</td>\n",
       "      <td>entrega_pendente</td>\n",
       "    </tr>\n",
       "    <tr>\n",
       "      <th>9996</th>\n",
       "      <td>9996</td>\n",
       "      <td>2019-05-08 00:32:21</td>\n",
       "      <td>58</td>\n",
       "      <td>carrinho</td>\n",
       "    </tr>\n",
       "    <tr>\n",
       "      <th>9997</th>\n",
       "      <td>9997</td>\n",
       "      <td>2019-04-08 10:52:09</td>\n",
       "      <td>6</td>\n",
       "      <td>entregue</td>\n",
       "    </tr>\n",
       "    <tr>\n",
       "      <th>9998</th>\n",
       "      <td>9998</td>\n",
       "      <td>2019-04-18 02:11:43</td>\n",
       "      <td>50</td>\n",
       "      <td>pagamento_pendente</td>\n",
       "    </tr>\n",
       "    <tr>\n",
       "      <th>9999</th>\n",
       "      <td>9999</td>\n",
       "      <td>2020-01-18 08:41:52</td>\n",
       "      <td>54</td>\n",
       "      <td>pagamento_pendente</td>\n",
       "    </tr>\n",
       "  </tbody>\n",
       "</table>\n",
       "<p>10000 rows × 4 columns</p>\n",
       "</div>"
      ],
      "text/plain": [
       "        id          created_at  customer_id           pagamento\n",
       "0        0 2019-08-28 03:36:31           91            entregue\n",
       "1        1 2019-08-16 20:21:30            7            entregue\n",
       "2        2 2019-07-11 11:00:06           26  pagamento_pendente\n",
       "3        3 2019-08-27 21:04:41           92  pagamento_pendente\n",
       "4        4 2019-11-03 19:58:37           63    entrega_pendente\n",
       "...    ...                 ...          ...                 ...\n",
       "9995  9995 2020-01-28 03:55:43            0    entrega_pendente\n",
       "9996  9996 2019-05-08 00:32:21           58            carrinho\n",
       "9997  9997 2019-04-08 10:52:09            6            entregue\n",
       "9998  9998 2019-04-18 02:11:43           50  pagamento_pendente\n",
       "9999  9999 2020-01-18 08:41:52           54  pagamento_pendente\n",
       "\n",
       "[10000 rows x 4 columns]"
      ]
     },
     "execution_count": 33,
     "metadata": {},
     "output_type": "execute_result"
    }
   ],
   "source": [
    "\n",
    "dados\n"
   ]
  },
  {
   "cell_type": "code",
   "execution_count": 98,
   "metadata": {},
   "outputs": [],
   "source": [
    "#Novos dados apos a coluna ID deletado\n",
    "import pandas as pd\n",
    "import pyodbc \n",
    "\n",
    "server = 'LETICIA' # Substitua pelo nome do servidor SQL Server\n",
    "database = 'Python'  # Substitua pelo nome do banco de dados\n",
    "conexaoDB = pyodbc.connect('DRIVER={ODBC Driver 17 for SQL Server};'\n",
    "                      f'SERVER={server};'\n",
    "                      f'DATABASE={database};'\n",
    "                      'Trusted_Connection=yes;')\n",
    "\n",
    "cursor = conexaoDB.cursor()   # criando cursor de comando "
   ]
  },
  {
   "cell_type": "code",
   "execution_count": 99,
   "metadata": {},
   "outputs": [
    {
     "data": {
      "text/html": [
       "<div>\n",
       "<style scoped>\n",
       "    .dataframe tbody tr th:only-of-type {\n",
       "        vertical-align: middle;\n",
       "    }\n",
       "\n",
       "    .dataframe tbody tr th {\n",
       "        vertical-align: top;\n",
       "    }\n",
       "\n",
       "    .dataframe thead th {\n",
       "        text-align: right;\n",
       "    }\n",
       "</style>\n",
       "<table border=\"1\" class=\"dataframe\">\n",
       "  <thead>\n",
       "    <tr style=\"text-align: right;\">\n",
       "      <th></th>\n",
       "      <th>id</th>\n",
       "      <th>created_at</th>\n",
       "      <th>customer_id</th>\n",
       "      <th>pagamento</th>\n",
       "    </tr>\n",
       "  </thead>\n",
       "  <tbody>\n",
       "    <tr>\n",
       "      <th>0</th>\n",
       "      <td>0</td>\n",
       "      <td>2019-08-28 03:36:31</td>\n",
       "      <td>91</td>\n",
       "      <td>entregue</td>\n",
       "    </tr>\n",
       "    <tr>\n",
       "      <th>1</th>\n",
       "      <td>1</td>\n",
       "      <td>2019-08-16 20:21:30</td>\n",
       "      <td>7</td>\n",
       "      <td>entregue</td>\n",
       "    </tr>\n",
       "    <tr>\n",
       "      <th>2</th>\n",
       "      <td>2</td>\n",
       "      <td>2019-07-11 11:00:06</td>\n",
       "      <td>26</td>\n",
       "      <td>pagamento_pendente</td>\n",
       "    </tr>\n",
       "    <tr>\n",
       "      <th>3</th>\n",
       "      <td>3</td>\n",
       "      <td>2019-08-27 21:04:41</td>\n",
       "      <td>92</td>\n",
       "      <td>pagamento_pendente</td>\n",
       "    </tr>\n",
       "    <tr>\n",
       "      <th>4</th>\n",
       "      <td>4</td>\n",
       "      <td>2019-11-03 19:58:37</td>\n",
       "      <td>63</td>\n",
       "      <td>entrega_pendente</td>\n",
       "    </tr>\n",
       "  </tbody>\n",
       "</table>\n",
       "</div>"
      ],
      "text/plain": [
       "   id          created_at  customer_id           pagamento\n",
       "0   0 2019-08-28 03:36:31           91            entregue\n",
       "1   1 2019-08-16 20:21:30            7            entregue\n",
       "2   2 2019-07-11 11:00:06           26  pagamento_pendente\n",
       "3   3 2019-08-27 21:04:41           92  pagamento_pendente\n",
       "4   4 2019-11-03 19:58:37           63    entrega_pendente"
      ]
     },
     "execution_count": 99,
     "metadata": {},
     "output_type": "execute_result"
    }
   ],
   "source": [
    "dados = pd.read_excel(r\"C:\\Users\\Leticia\\Desktop\\Python-Banco de Dados\\Banco de dados\\Origem\\arquivos_excel\\Ordens_base.xlsx\")\n",
    "str(dados.columns).replace(\"'\",\"\") \n",
    "dados.head(5)"
   ]
  },
  {
   "cell_type": "code",
   "execution_count": 100,
   "metadata": {},
   "outputs": [],
   "source": [
    "cursor.execute('delete from [Ordens_base]')   #executa tarefa de  apagar dados \n",
    "cursor.commit()"
   ]
  },
  {
   "cell_type": "code",
   "execution_count": 72,
   "metadata": {},
   "outputs": [],
   "source": [
    "#deletar uma coluna no banco de dados\n",
    "#ALTER TABLE Ordens_base DROP COLUMN id;\n",
    "# adicinei uma coluna direito no banco de dados que paguei acima \n",
    "#ALTER TABLE Ordens_base \n",
    "#ADD id VARCHAR(20) NULL, column_c INT NULL ;"
   ]
  },
  {
   "cell_type": "code",
   "execution_count": 71,
   "metadata": {},
   "outputs": [
    {
     "ename": "ProgrammingError",
     "evalue": "('42000', \"[42000] [Microsoft][ODBC Driver 17 for SQL Server][SQL Server]Uma expressão de tipo não booleano especificada em um contexto no qual se espera uma condição, próximo a 'column_c'. (4145) (SQLExecDirectW)\")",
     "output_type": "error",
     "traceback": [
      "\u001b[1;31m---------------------------------------------------------------------------\u001b[0m",
      "\u001b[1;31mProgrammingError\u001b[0m                          Traceback (most recent call last)",
      "Cell \u001b[1;32mIn[71], line 1\u001b[0m\n\u001b[1;32m----> 1\u001b[0m cursor\u001b[38;5;241m.\u001b[39mexecute(\u001b[38;5;124m'\u001b[39m\u001b[38;5;124mdelete from Ordens_base where column_c\u001b[39m\u001b[38;5;124m'\u001b[39m)\n",
      "\u001b[1;31mProgrammingError\u001b[0m: ('42000', \"[42000] [Microsoft][ODBC Driver 17 for SQL Server][SQL Server]Uma expressão de tipo não booleano especificada em um contexto no qual se espera uma condição, próximo a 'column_c'. (4145) (SQLExecDirectW)\")"
     ]
    }
   ],
   "source": [
    "#cursor.execute('delete from Ordens_base where column_c')"
   ]
  },
  {
   "cell_type": "code",
   "execution_count": 101,
   "metadata": {},
   "outputs": [],
   "source": [
    "#inserção no banco de dados \n",
    "for index, linha in dados.iterrows():\n",
    "    \n",
    "    cursor.execute(\"Insert into [Ordens_base](id,created_at,customer_id,pagamento)values(?,?,?,?)\",linha.id,linha.created_at,\n",
    "                   linha.customer_id,linha.pagamento) \n",
    "     # inserir colunas e quantas colunas tiver passar quantidade de ??\n",
    "cursor.commit()   # validar dados no SQL Server\n",
    "cursor.close()    #Fechar Cursor\n",
    "conexaoDB.close() #Fechar Conexao"
   ]
  },
  {
   "cell_type": "markdown",
   "metadata": {},
   "source": []
  }
 ],
 "metadata": {
  "kernelspec": {
   "display_name": "Python 3",
   "language": "python",
   "name": "python3"
  },
  "language_info": {
   "codemirror_mode": {
    "name": "ipython",
    "version": 3
   },
   "file_extension": ".py",
   "mimetype": "text/x-python",
   "name": "python",
   "nbconvert_exporter": "python",
   "pygments_lexer": "ipython3",
   "version": "3.11.5"
  },
  "vscode": {
   "interpreter": {
    "hash": "c347c8f9a7ef94e4c9e03b4513be7835ed18f45b99a2a817fb579f408b867b16"
   }
  }
 },
 "nbformat": 4,
 "nbformat_minor": 4
}
