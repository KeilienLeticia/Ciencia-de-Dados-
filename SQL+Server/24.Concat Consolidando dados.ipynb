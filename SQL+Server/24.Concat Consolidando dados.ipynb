{
 "cells": [
  {
   "cell_type": "markdown",
   "metadata": {},
   "source": [
    "### https://pandas.pydata.org/docs/reference/api/pandas.concat.html"
   ]
  },
  {
   "cell_type": "code",
   "execution_count": null,
   "metadata": {},
   "outputs": [],
   "source": [
    "import pandas as pd\n",
    "import os\n",
    "\n",
    "vendas2021 = pd.read_excel(r\"C:\\Users\\Leticia\\Desktop\\Python-Banco de Dados\\Banco de dados\\Origem\\arquivos_excel\\Consolidar\\Vendas2021.xlsx\")\n",
    "vendas2022 = pd.read_excel(r\"C:\\Users\\Leticia\\Desktop\\Python-Banco de Dados\\Banco de dados\\Origem\\arquivos_excel\\Consolidar\\Vendas2022.xlsx\")\n",
    "vendas2023 = pd.read_excel(r\"C:\\Users\\Leticia\\Desktop\\Python-Banco de Dados\\Banco de dados\\Origem\\arquivos_excel\\Consolidar\\Vendas2023.xlsx\")"
   ]
  },
  {
   "cell_type": "code",
   "execution_count": null,
   "metadata": {},
   "outputs": [],
   "source": [
    "vendas2021.head(5)"
   ]
  },
  {
   "cell_type": "code",
   "execution_count": null,
   "metadata": {},
   "outputs": [],
   "source": [
    "vendas2022.head(5)"
   ]
  },
  {
   "cell_type": "code",
   "execution_count": null,
   "metadata": {},
   "outputs": [],
   "source": [
    "vendas2023.head(5)"
   ]
  },
  {
   "cell_type": "code",
   "execution_count": null,
   "metadata": {},
   "outputs": [],
   "source": [
    "#Consolidado=pd.concat([vendas2021,vendas2022,vendas2023]) # com indice\n",
    "#Consolidado=pd.concat([vendas2021,vendas2022,vendas2023],ignore_index=True) # Sem indice\n",
    "Consolidado=pd.concat([vendas2021,vendas2022,vendas2023],keys=[\"2021\",\"2022\",\"2023\"]) # identificando tabelas \n"
   ]
  },
  {
   "cell_type": "code",
   "execution_count": null,
   "metadata": {},
   "outputs": [],
   "source": [
    "consolidado = pd.concat([vendas2021,vendas2022,vendas2023])# com indice\n",
    "consolidado"
   ]
  },
  {
   "cell_type": "code",
   "execution_count": null,
   "metadata": {},
   "outputs": [],
   "source": [
    "consolidado=pd.concat([vendas2021,vendas2022,vendas2023],keys=[\"2011\",\"20255\",\"2023\"]) #identificando as tabelas, com determinado pela Key como exemplo\n",
    "# como exemplo 20255 0  2022-12-30       267            1         Moda     639       USA \n",
    "print(consolidado)"
   ]
  },
  {
   "attachments": {},
   "cell_type": "markdown",
   "metadata": {},
   "source": [
    "##### Verificar se arquivo ja existe e adicionar no final \n",
    "\n"
   ]
  },
  {
   "cell_type": "code",
   "execution_count": null,
   "metadata": {},
   "outputs": [],
   "source": [
    "# Caminho da pasta onde será salvo o arquivo Excel\n",
    "#no Final tem que colocar 2 barras para direcionar no caminho correto\n",
    "pasta_destino = r\"C:\\Users\\Leticia\\Desktop\\Python-Banco de Dados\\Banco de dados\\Origem\\arquivos_excel\\Consolidar\\Concat\\\\\"\n",
    "# Nome do arquivo Excel (variável)\n",
    "nome_arquivo = 'VendasConcat.xlsx'\n",
    "\n",
    "# Lista para armazenar os dados dos arquivos\n",
    "dados = []\n",
    "\n",
    "# Caminho completo do arquivo Excel\n",
    "Caminho_Completo = pasta_destino + nome_arquivo \n",
    "\n",
    "if os.path.exists(Caminho_Completo):\n",
    "    # Carregar o arquivo Excel consolidado existente em um DataFrame\n",
    "    df_existente = pd.read_excel(Caminho_Completo)\n",
    "    # Adicionar os dados existentes ao DataFrame consolidado\n",
    "    dados.append(df_existente)\n",
    "# Salvar o DataFrame consolidado como arquivo Excel\n",
    "consolidado.to_excel(Caminho_Completo, index=False)"
   ]
  },
  {
   "cell_type": "code",
   "execution_count": null,
   "metadata": {},
   "outputs": [],
   "source": [
    "# Outras formas de concaternar\n",
    "import os\n",
    "import pandas as pd\n",
    "\n",
    "# Caminho da pasta onde será salvo o arquivo Excel\n",
    "pasta_destino = r\"C:\\Users\\Leticia\\Desktop\\Python-Banco de Dados\\Banco de dados\\Origem\\arquivos_excel\\Consolidar\\Concat\\\\\"\n",
    "# Nome do arquivo Excel (variável)\n",
    "nome_arquivo = 'VendasConcat04.xlsx'\n",
    "\n",
    "# Lista para armazenar os dados dos arquivos\n",
    "dados = []\n",
    "\n",
    "# Caminho completo do arquivo Excel\n",
    "caminho_completo = os.path.join(pasta_destino, nome_arquivo)\n",
    "\n",
    "if os.path.exists(caminho_completo):\n",
    "    # Carregar o arquivo Excel consolidado existente em um DataFrame\n",
    "    df_existente = pd.read_excel(caminho_completo)\n",
    "    # Adicionar os dados existentes ao DataFrame consolidado\n",
    "    dados.append(df_existente)\n",
    "# Concatenar todos os DataFrames na lista de dados\n",
    "consolidado = pd.concat(dados)\n",
    "# Redefinindo o índice do DataFrame concatenado\n",
    "consolidado = consolidado.reset_index(drop=True)\n",
    "\n",
    "# Salvar o DataFrame consolidado como arquivo Excel\n",
    "consolidado.to_excel(caminho_completo, index=False)\n",
    "\n",
    "print(\"Arquivo Excel salvo em:\", caminho_completo)\n"
   ]
  },
  {
   "cell_type": "markdown",
   "metadata": {},
   "source": [
    "Nome de Arquivos"
   ]
  },
  {
   "cell_type": "code",
   "execution_count": 17,
   "metadata": {},
   "outputs": [],
   "source": [
    "import pandas as pd\n",
    "import os\n",
    "\n",
    "vendas2021 = (r\"C:\\Users\\Leticia\\Desktop\\Python-Banco de Dados\\Banco de dados\\Origem\\arquivos_excel\\Consolidar\\Vendas2021.xlsx\")\n",
    "vendas2022 = (r\"C:\\Users\\Leticia\\Desktop\\Python-Banco de Dados\\Banco de dados\\Origem\\arquivos_excel\\Consolidar\\Vendas2022.xlsx\")\n",
    "vendas2023 = (r\"C:\\Users\\Leticia\\Desktop\\Python-Banco de Dados\\Banco de dados\\Origem\\arquivos_excel\\Consolidar\\Vendas2023.xlsx\")\n",
    "\n",
    "\n"
   ]
  },
  {
   "cell_type": "code",
   "execution_count": 18,
   "metadata": {},
   "outputs": [],
   "source": [
    " #Carregar arquivos Excel em DataFrames\n",
    "df21=pd.read_excel(vendas2021)\n",
    "df22=pd.read_excel(vendas2022)\n",
    "df23=pd.read_excel(vendas2023)"
   ]
  },
  {
   "cell_type": "code",
   "execution_count": 19,
   "metadata": {},
   "outputs": [],
   "source": [
    "# Extrai o nome do arquivo sem o caminho e a extensão usando o módulo os como exemplo---Vendas2021\n",
    "#caso eu trocar o nome do arquivo no na raiz tem que alterar no py\n",
    "nome_arquivo = os.path.splitext(os.path.basename(vendas2021))[0]\n",
    "nome_arquivo2 = os.path.splitext(os.path.basename(vendas2022))[0]\n",
    "nome_arquivo3 = os.path.splitext(os.path.basename(vendas2023))[0]\n",
    "\n",
    "# Adiciona o nome do arquivo NA TABELA\n",
    "df21['Nome do Arquivo'] = nome_arquivo\n",
    "df22['Nome do Arquivo'] = nome_arquivo2\n",
    "df23['Nome do Arquivo'] = nome_arquivo3"
   ]
  },
  {
   "cell_type": "code",
   "execution_count": 26,
   "metadata": {},
   "outputs": [],
   "source": [
    "Consolidado2 = pd.concat([ df21, df22 ,df23 ])"
   ]
  },
  {
   "cell_type": "code",
   "execution_count": null,
   "metadata": {},
   "outputs": [],
   "source": [
    "# Outras formas de concaternar\n",
    "import pandas as pd\n",
    "import os\n",
    "\n",
    "vendas2021 = (r\"C:\\Users\\Leticia\\Desktop\\Python-Banco de Dados\\Banco de dados\\Origem\\arquivos_excel\\Consolidar\\Vendas2021.xlsx\")\n",
    "vendas2022 = (r\"C:\\Users\\Leticia\\Desktop\\Python-Banco de Dados\\Banco de dados\\Origem\\arquivos_excel\\Consolidar\\Vendas2022.xlsx\")\n",
    "vendas2023 = (r\"C:\\Users\\Leticia\\Desktop\\Python-Banco de Dados\\Banco de dados\\Origem\\arquivos_excel\\Consolidar\\Vendas2023.xlsx\")\n",
    "\n",
    "df21=pd.read_excel(vendas2021)\n",
    "df22=pd.read_excel(vendas2022)\n",
    "df23=pd.read_excel(vendas2023)\n",
    "\n",
    "nome_arquivo = os.path.splitext(os.path.basename(vendas2021))[0]\n",
    "nome_arquivo2 = os.path.splitext(os.path.basename(vendas2022))[0]\n",
    "nome_arquivo3 = os.path.splitext(os.path.basename(vendas2023))[0]\n",
    "\n",
    "# Adiciona o nome do arquivo NA TABELA\n",
    "df21['Nome do Arquivo'] = nome_arquivo\n",
    "df22['Nome do Arquivo'] = nome_arquivo2\n",
    "df23['Nome do Arquivo'] = nome_arquivo3\n",
    "\n",
    "Consolidado = pd.concat([ df21, df22 ,df23 ])\n",
    "\n",
    "# Caminho da pasta onde será salvo o arquivo Excel\n",
    "pasta_destino = r\"C:\\Users\\Leticia\\Desktop\\Python-Banco de Dados\\Banco de dados\\Origem\\arquivos_excel\\Consolidar\\Concat\\\\\"\n",
    "# Nome do arquivo Excel (variável)\n",
    "nome_arquivo = 'FINALVENDAS.xlsx'\n",
    "\n",
    "# Lista para armazenar os dados dos arquivos\n",
    "dados = []\n",
    "\n",
    "# Caminho completo do arquivo Excel\n",
    "caminho_completo = os.path.join(pasta_destino, nome_arquivo)\n",
    "\n",
    "if os.path.exists(caminho_completo):\n",
    "    # Carregar o arquivo Excel consolidado existente em um DataFrame\n",
    "    df_existente = pd.read_excel(caminho_completo)\n",
    "    # Adicionar os dados existentes ao DataFrame consolidado\n",
    "    dados.append(df_existente)\n",
    "# Concatenar todos os DataFrames na lista de dados\n",
    "Consolidado = pd.concat(dados)\n",
    "# Redefinindo o índice do DataFrame concatenado\n",
    "Consolidado = consolidado.reset_index(drop=True)\n",
    "\n",
    "# Salvar o DataFrame consolidado como arquivo Excel\n",
    "Consolidado.to_excel(caminho_completo, index=False)\n",
    "\n",
    "print(\"Arquivo Excel salvo em:\", caminho_completo)\n"
   ]
  },
  {
   "cell_type": "code",
   "execution_count": 32,
   "metadata": {},
   "outputs": [
    {
     "name": "stdout",
     "output_type": "stream",
     "text": [
      "Arquivo Excel salvo em: C:\\Users\\Leticia\\Desktop\\Python-Banco de Dados\\Banco de dados\\Origem\\arquivos_excel\\Consolidar\\Concat\\FINALVENDAS.xlsx\n"
     ]
    }
   ],
   "source": [
    "#ai importa para bi a planilha não pode esta em aberto!!!\n",
    "import pandas as pd\n",
    "import os\n",
    "\n",
    "# Caminhos dos arquivos Excel\n",
    "vendas2021 = r\"C:\\Users\\Leticia\\Desktop\\Python-Banco de Dados\\Banco de dados\\Origem\\arquivos_excel\\Consolidar\\Vendas2021.xlsx\"\n",
    "vendas2022 = r\"C:\\Users\\Leticia\\Desktop\\Python-Banco de Dados\\Banco de dados\\Origem\\arquivos_excel\\Consolidar\\Vendas2022.xlsx\"\n",
    "vendas2023 = r\"C:\\Users\\Leticia\\Desktop\\Python-Banco de Dados\\Banco de dados\\Origem\\arquivos_excel\\Consolidar\\Vendas2023.xlsx\"\n",
    "\n",
    "# Leitura dos arquivos Excel em DataFrames\n",
    "df21 = pd.read_excel(vendas2021)\n",
    "df22 = pd.read_excel(vendas2022)\n",
    "df23 = pd.read_excel(vendas2023)\n",
    "\n",
    "# Adiciona o nome do arquivo como uma coluna --- Vendas2022\n",
    "nome_arquivo21 = os.path.splitext(os.path.basename(vendas2021))[0]\n",
    "nome_arquivo22 = os.path.splitext(os.path.basename(vendas2022))[0]\n",
    "nome_arquivo23 = os.path.splitext(os.path.basename(vendas2023))[0]\n",
    "\n",
    "df21['Nome do Arquivo'] = nome_arquivo21\n",
    "df22['Nome do Arquivo'] = nome_arquivo22\n",
    "df23['Nome do Arquivo'] = nome_arquivo23\n",
    "\n",
    "# Concatena os DataFrames\n",
    "consolidado = pd.concat([df21, df22, df23], ignore_index=True)\n",
    "\n",
    "# Caminho da pasta onde será salvo o arquivo Excel\n",
    "pasta_destino = r\"C:\\Users\\Leticia\\Desktop\\Python-Banco de Dados\\Banco de dados\\Origem\\arquivos_excel\\Consolidar\\Concat\"\n",
    "# Nome do arquivo Excel\n",
    "nome_arquivo = 'FINALVENDAS.xlsx'\n",
    "\n",
    "# Caminho completo do arquivo Excel\n",
    "caminho_completo = os.path.join(pasta_destino, nome_arquivo)\n",
    "\n",
    "# Salva o DataFrame consolidado como arquivo Excel\n",
    "consolidado.to_excel(caminho_completo, index=False)\n",
    "\n",
    "print(\"Arquivo Excel salvo em:\", caminho_completo)\n"
   ]
  },
  {
   "cell_type": "code",
   "execution_count": null,
   "metadata": {},
   "outputs": [],
   "source": [
    "import pandas as pd\n",
    "import os\n",
    "\n",
    "# Carregar arquivos Excel em DataFrames\n",
    "df21 = pd.read_excel(r\"C:\\Users\\Leticia\\Desktop\\Python-Banco de Dados\\Banco de dados\\Origem\\arquivos_excel\\Consolidar\\Vendas2021.xlsx\")\n",
    "print(\"Vendas2021 carregado:\")\n",
    "print(df21.head())\n",
    "\n",
    "df22 = pd.read_excel(r\"C:\\Users\\Leticia\\Desktop\\Python-Banco de Dados\\Banco de dados\\Origem\\arquivos_excel\\Consolidar\\Vendas2022.xlsx\")\n",
    "print(\"Vendas2022 carregado:\")\n",
    "print(df22.head())\n",
    "\n",
    "df23 = pd.read_excel(r\"C:\\Users\\Leticia\\Desktop\\Python-Banco de Dados\\Banco de dados\\Origem\\arquivos_excel\\Consolidar\\Vendas2023.xlsx\")\n",
    "print(\"Vendas2023 carregado:\")\n",
    "print(df23.head())\n",
    "\n",
    "# Obter os nomes dos arquivos (sem a extensão)\n",
    "nome_arquivo21 = os.path.splitext(os.path.basename(r\"C:\\Users\\Leticia\\Desktop\\Python-Banco de Dados\\Banco de dados\\Origem\\arquivos_excel\\Consolidar\\Vendas2021.xlsx\"))[0]\n",
    "nome_arquivo22 = os.path.splitext(os.path.basename(r\"C:\\Users\\Leticia\\Desktop\\Python-Banco de Dados\\Banco de dados\\Origem\\arquivos_excel\\Consolidar\\Vendas2022.xlsx\"))[0]\n",
    "nome_arquivo23 = os.path.splitext(os.path.basename(r\"C:\\Users\\Leticia\\Desktop\\Python-Banco de Dados\\Banco de dados\\Origem\\arquivos_excel\\Consolidar\\Vendas2023.xlsx\"))[0]\n",
    "\n",
    "# Adicionar o nome do arquivo a cada DataFrame\n",
    "df21['Nome do Arquivo'] = nome_arquivo21\n",
    "df22['Nome do Arquivo'] = nome_arquivo22\n",
    "df23['Nome do Arquivo'] = nome_arquivo23\n",
    "\n",
    "# Lista para armazenar os dados dos arquivos\n",
    "dados = []\n",
    "\n",
    "# Caminho da pasta onde será salvo o arquivo Excel consolidado\n",
    "pasta_destino = r\"C:\\Users\\Leticia\\Desktop\\Python-Banco de Dados\\Banco de dados\\Origem\\arquivos_excel\\Consolidar\\Concat\"\n",
    "# Nome do arquivo Excel consolidado\n",
    "nome_arquivo_consolidado = 'VendasConcat.xlsx'\n",
    "# Caminho completo do arquivo Excel consolidado\n",
    "caminho_completo = os.path.join(pasta_destino, nome_arquivo_consolidado)\n",
    "\n",
    "# Verificar se o arquivo consolidado já existe\n",
    "if os.path.exists(caminho_completo):\n",
    "    # Carregar o arquivo Excel consolidado existente em um DataFrame\n",
    "    df_existente = pd.read_excel(caminho_completo)\n",
    "    print(\"Arquivo consolidado existente carregado:\")\n",
    "    print(df_existente.head())\n",
    "    # Adicionar os dados existentes à lista de dados\n",
    "    dados.append(df_existente)\n",
    "\n",
    "# Adicionar os novos DataFrames à lista de dados\n",
    "dados.append(df21)\n",
    "dados.append(df22)\n",
    "dados.append(df23)\n",
    "\n",
    "# Concatenar todos os DataFrames na lista de dados\n",
    "consolidado = pd.concat(dados, ignore_index=True)\n",
    "\n",
    "# Salvar o DataFrame consolidado como arquivo Excel\n",
    "consolidado.to_excel(caminho_completo, index=False)\n",
    "\n",
    "print(\"Arquivo Excel salvo em:\", caminho_completo)\n"
   ]
  },
  {
   "cell_type": "code",
   "execution_count": null,
   "metadata": {},
   "outputs": [],
   "source": [
    "Consolidado2"
   ]
  },
  {
   "cell_type": "code",
   "execution_count": 1,
   "metadata": {},
   "outputs": [
    {
     "name": "stdout",
     "output_type": "stream",
     "text": [
      "Arquivo Excel salvo em: C:\\Users\\Leticia\\Desktop\\Python-Banco de Dados\\Banco de dados\\Origem\\arquivos_excel\\Consolidar\\Concat\\FINAL_01.xlsx\n"
     ]
    }
   ],
   "source": [
    "import pandas as pd\n",
    "import os\n",
    "\n",
    "# Caminhos dos arquivos Excel\n",
    "vendas2021 = r\"C:\\Users\\Leticia\\Desktop\\Python-Banco de Dados\\Banco de dados\\Origem\\arquivos_excel\\Consolidar\\Vendas2021.xlsx\"\n",
    "vendas2022 = r\"C:\\Users\\Leticia\\Desktop\\Python-Banco de Dados\\Banco de dados\\Origem\\arquivos_excel\\Consolidar\\Vendas2022.xlsx\"\n",
    "vendas2023 = r\"C:\\Users\\Leticia\\Desktop\\Python-Banco de Dados\\Banco de dados\\Origem\\arquivos_excel\\Consolidar\\Vendas2023.xlsx\"\n",
    "\n",
    "# Leitura dos arquivos Excel em DataFrames\n",
    "df21 = pd.read_excel(vendas2021)\n",
    "df22 = pd.read_excel(vendas2022)\n",
    "df23 = pd.read_excel(vendas2023)\n",
    "\n",
    "# Adiciona o nome do arquivo como uma coluna\n",
    "nome_arquivo21 = os.path.splitext(os.path.basename(vendas2021))[0]\n",
    "nome_arquivo22 = os.path.splitext(os.path.basename(vendas2022))[0]\n",
    "nome_arquivo23 = os.path.splitext(os.path.basename(vendas2023))[0]\n",
    "\n",
    "df21['Nome do Arquivo'] = nome_arquivo21\n",
    "df22['Nome do Arquivo'] = nome_arquivo22\n",
    "df23['Nome do Arquivo'] = nome_arquivo23\n",
    "\n",
    "# Concatena os DataFrames\n",
    "consolidado = pd.concat([df21, df22, df23], ignore_index=True)\n",
    "\n",
    "# Caminho da pasta onde será salvo o arquivo Excel (alterado para a pasta Documents)\n",
    "\n",
    "#caminho onde vai ficar o c\n",
    "pasta_destino = r\"C:\\Users\\Leticia\\Desktop\\Python-Banco de Dados\\Banco de dados\\Origem\\arquivos_excel\\Consolidar\\Concat\"\n",
    "# Nome do arquivo Excel\n",
    "nome_arquivo = 'FINAL_01.xlsx'\n",
    "\n",
    "# Caminho completo do arquivo Excel\n",
    "caminho_completo = os.path.join(pasta_destino, nome_arquivo)\n",
    "\n",
    "# Salva o DataFrame consolidado como arquivo Excel\n",
    "consolidado.to_excel(caminho_completo, index=False)\n",
    "\n",
    "print(\"Arquivo Excel salvo em:\", caminho_completo)\n"
   ]
  }
 ],
 "metadata": {
  "kernelspec": {
   "display_name": "Python 3",
   "language": "python",
   "name": "python3"
  },
  "language_info": {
   "codemirror_mode": {
    "name": "ipython",
    "version": 3
   },
   "file_extension": ".py",
   "mimetype": "text/x-python",
   "name": "python",
   "nbconvert_exporter": "python",
   "pygments_lexer": "ipython3",
   "version": "3.11.5"
  },
  "orig_nbformat": 4
 },
 "nbformat": 4,
 "nbformat_minor": 2
}
