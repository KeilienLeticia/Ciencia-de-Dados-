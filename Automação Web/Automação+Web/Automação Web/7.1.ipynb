{
 "cells": [
  {
   "cell_type": "code",
   "execution_count": null,
   "metadata": {
    "scrolled": true
   },
   "outputs": [],
   "source": [
    "\n",
    "from selenium import webdriver\n",
    "import chromedriver_autoinstaller\n",
    "from selenium.webdriver.chrome.service import Service as ChromeService\n",
    "from selenium.webdriver.chrome.options import Options as ChromeOptions\n",
    "from selenium.webdriver.common.by import By \n",
    "from time import sleep\n",
    "\n",
    "# Configurar o caminho para o ChromeDriver na pasta de rede comando do google web\n",
    "#chrome_driver = r\"C:\\Users\\edmil\\Downloads\\chromedriver_win32\\chromedriver.exe\"\n",
    "\n",
    "# Configurar as preferências do Chrome para salvar automaticamente os downloads na pasta de destino\n",
    "pasta_destino = r\"C:\\Users\\Leticia\\Desktop\\Python-Banco de Dados\\Baixar web-formulario\"\n",
    "\n",
    "preferencias = {\n",
    "    \"download.default_directory\": pasta_destino\n",
    "    \n",
    "}\n",
    "\n",
    "# Configurar as opções do Chrome\n",
    "options = ChromeOptions()\n",
    "options.add_experimental_option(\"prefs\", preferencias) # adicinar preferencias \n",
    "options.headless = False                               # Mostrar navegador ao executar automação headless = False   mostrar navegador headless = True Não mostrar o navegador   \n",
    "\n",
    "# Configurar serviço do ChromeDriver\n",
    "chrome_service = ChromeService(executable_path=chrome_driver)\n",
    "\n",
    "# Instanciar o navegador Chrome passando o Service e as opções\n",
    "navegador = webdriver.Chrome(service=chrome_service, options=options)\n",
    "chromedriver_autoinstaller.install()\n",
    "# Agora o Chrome será iniciado a partir do executável do Chrome Portable e controlado pelo ChromeDriver.\n",
    "link = \"https://rpachallenge.com/\"\n",
    "navegador.get(link)\n",
    "\n"
   ]
  },
  {
   "cell_type": "code",
   "execution_count": 9,
   "metadata": {},
   "outputs": [],
   "source": [
    "from selenium import webdriver\n",
    "import chromedriver_autoinstaller\n",
    "from selenium.webdriver.chrome.service import Service as ChromeService\n",
    "from selenium.webdriver.chrome.options import Options as ChromeOptions\n",
    "from selenium.webdriver.common.by import By\n",
    "from time import sleep\n",
    "\n",
    "# Configurar a pasta de destino para os downloads\n",
    "pasta_destino = r\"C:\\Users\\Leticia\\Desktop\\Python-Banco de Dados\\Baixar web-formulario\"\n",
    "\n",
    "# Configurar as preferências do Chrome para salvar automaticamente os downloads na pasta de destino\n",
    "preferencias = {\n",
    "    \"download.default_directory\": pasta_destino\n",
    "}\n",
    "\n",
    "# Configurar as opções do Chrome\n",
    "options = ChromeOptions()\n",
    "options.add_experimental_option(\"prefs\", preferencias) # Adicionar preferências\n",
    "options.headless = False                               # Mostrar navegador ao executar automação (headless = False) \n",
    "\n",
    "# Instalar o ChromeDriver automaticamente\n",
    "chromedriver_autoinstaller.install()\n",
    "\n",
    "# Instanciar o navegador Chrome com as opções configuradas\n",
    "navegador = webdriver.Chrome(options=options)\n",
    "\n",
    "# Agora o Chrome será iniciado e controlado pelo ChromeDriver.\n",
    "link = \"https://rpachallenge.com/\"\n",
    "navegador.get(link)\n",
    "\n",
    "# Manter o navegador aberto por alguns segundos para visualizar o resultado (opcional)\n",
    "sleep(10)\n",
    "\n",
    "# Fechar o navegador\n",
    "navegador.quit()\n"
   ]
  },
  {
   "cell_type": "code",
   "execution_count": null,
   "metadata": {},
   "outputs": [],
   "source": [
    "sleep(5)\n",
    "Baixar =    navegador.find_element(by= By.XPATH,value='/html/body/app-root/div[2]/app-rpa1/div/div[1]/div[6]/a').click()"
   ]
  }
 ],
 "metadata": {
  "kernelspec": {
   "display_name": "Python 3 (ipykernel)",
   "language": "python",
   "name": "python3"
  },
  "language_info": {
   "codemirror_mode": {
    "name": "ipython",
    "version": 3
   },
   "file_extension": ".py",
   "mimetype": "text/x-python",
   "name": "python",
   "nbconvert_exporter": "python",
   "pygments_lexer": "ipython3",
   "version": "3.12.1"
  }
 },
 "nbformat": 4,
 "nbformat_minor": 2
}
