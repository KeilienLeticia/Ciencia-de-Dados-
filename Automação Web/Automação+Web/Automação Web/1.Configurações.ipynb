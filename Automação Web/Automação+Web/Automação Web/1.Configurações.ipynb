{
 "cells": [
  {
   "cell_type": "markdown",
   "metadata": {},
   "source": [
    "https://selenium-python.readthedocs.io/index.html"
   ]
  },
  {
   "cell_type": "code",
   "execution_count": null,
   "metadata": {},
   "outputs": [],
   "source": [
    "\"\"\"\n",
    "Drivers\n",
    "Chrome:\thttps://sites.google.com/chromium.org/driver/\n",
    "Edge:\thttps://developer.microsoft.com/en-us/microsoft-edge/tools/webdriver/\n",
    "Firefox:\thttps://github.com/mozilla/geckodriver/releases\n",
    "Safari:\thttps://webkit.org/blog/6900/webdriver-support-in-safari-10/\n",
    "\n",
    "\"\"\""
   ]
  },
  {
   "cell_type": "code",
   "execution_count": null,
   "metadata": {},
   "outputs": [],
   "source": [
    "#pip install selenium\n",
    "#pip install beautifulsoup4\n",
    "#pip install lxml\n",
    "#pip install webdriver-manager\n",
    "#pip install --upgrade selenium"
   ]
  },
  {
   "cell_type": "markdown",
   "metadata": {},
   "source": [
    "Webdriver Manual"
   ]
  },
  {
   "cell_type": "markdown",
   "metadata": {},
   "source": [
    "https://chromedriver.chromium.org/downloads"
   ]
  },
  {
   "cell_type": "code",
   "execution_count": 1,
   "metadata": {},
   "outputs": [
    {
     "name": "stderr",
     "output_type": "stream",
     "text": [
      "C:\\Users\\edmil\\AppData\\Local\\Temp\\ipykernel_23612\\1542188768.py:7: DeprecationWarning: executable_path has been deprecated, please pass in a Service object\n",
      "  Navegador = webdriver.Chrome(executable_path=CaminhoWD)\n"
     ]
    }
   ],
   "source": [
    "from selenium import webdriver\n",
    "\n",
    "# Caminho para o executável do ChromeDriver\n",
    "CaminhoWD = r\"C:\\Users\\edmil\\Downloads\\chromedriver_win32\\chromedriver.exe\"\n",
    "\n",
    "# Inicializar o navegador Chrome\n",
    "Navegador = webdriver.Chrome(executable_path=CaminhoWD)\n",
    "\n",
    "# Exemplo: abrindo paginas Web\n",
    "Link= \"https://www.google.com.br\"\n",
    "Navegador.get(Link)\n",
    "# Fechar o navegador\n",
    "# Navegador.quit()\n",
    "\n"
   ]
  },
  {
   "cell_type": "code",
   "execution_count": null,
   "metadata": {},
   "outputs": [],
   "source": [
    "#Navegador.quit()"
   ]
  },
  {
   "cell_type": "markdown",
   "metadata": {},
   "source": [
    "Web Driver Automatico"
   ]
  },
  {
   "cell_type": "markdown",
   "metadata": {},
   "source": [
    "Instalação Automática: A biblioteca verifica a versão do Google Chrome instalada em sua máquina e faz o download e a instalação automática da versão correspondente do ChromeDriver. Isso garante que o ChromeDriver seja compatível com a versão do Chrome em execução.\n",
    "\n",
    "Compatibilidade Garantida: Você não precisa se preocupar em encontrar e baixar manualmente a versão correta do ChromeDriver. A biblioteca cuida disso automaticamente para você, garantindo que você tenha a versão apropriada do ChromeDriver.\n",
    "\n",
    "Facilidade de Uso: Com apenas uma linha de código, você pode configurar e instalar o ChromeDriver usando a biblioteca. Isso torna o processo de configuração mais simples e rápido.\n",
    "\n",
    "Manutenção Simplificada: À medida que você atualiza o Google Chrome em sua máquina, a biblioteca acompanha automaticamente as mudanças e ajusta o ChromeDriver, se necessário, para que você não precise se preocupar com a compatibilidade.\n",
    "\n",
    "Redução de Erros: A utilização da biblioteca evita erros de configuração manual, como usar uma versão incompatível do ChromeDriver com a versão do Google Chrome. Isso ajuda a melhorar a estabilidade de seus scripts de automação."
   ]
  },
  {
   "cell_type": "code",
   "execution_count": 22,
   "metadata": {},
   "outputs": [],
   "source": [
    "#pip install chromedriver-autoinstaller\n",
    "\n",
    "from selenium import webdriver\n",
    "import chromedriver_autoinstaller\n",
    "\n",
    "# Instalação automática do ChromeDriver (commicação entre cod e navegador)\n",
    "chromedriver_autoinstaller.install()\n",
    "\n",
    "# Inicializar o navegador Chrome\n",
    "Navegador = webdriver.Chrome()"
   ]
  },
  {
   "cell_type": "code",
   "execution_count": 1,
   "metadata": {},
   "outputs": [],
   "source": [
    "from os import link\n",
    "from selenium import webdriver\n",
    "import chromedriver_autoinstaller\n",
    "chromedriver_autoinstaller.install()\n",
    "Navegador= webdriver.Chrome()\n",
    "link = 'https://www.uol.com.br/'\n",
    "Navegador.get(link)"
   ]
  },
  {
   "cell_type": "code",
   "execution_count": null,
   "metadata": {},
   "outputs": [],
   "source": [
    "from selenium import webdriver\n",
    "from selenium.webdriver.common.by import By\n",
    "from selenium.webdriver.support.ui import WebDriverWait\n",
    "from selenium.webdriver.support import expected_conditions as EC\n",
    "import chromedriver_autoinstaller\n",
    "chromedriver_autoinstaller.install()\n",
    "Navegador = webdriver.Chrome()\n",
    "url = 'https://www.youtube.com/watch?v=RS_fYWmsB_o&list=RDnayUYBqrweE&index=7'\n",
    "Navegador.get(url)\n",
    "import time\n",
    "time.sleep(10)\n",
    "Navegador.quit()\n",
    "\n"
   ]
  },
  {
   "cell_type": "code",
   "execution_count": null,
   "metadata": {},
   "outputs": [],
   "source": [
    "Navegador= webdriver.chrome()\n",
    "Link = 'https://github.com/GoogleChromeLabs/chrome-for-testing#json-api-endpoints'"
   ]
  },
  {
   "cell_type": "code",
   "execution_count": null,
   "metadata": {},
   "outputs": [],
   "source": [
    "# Exemplo: abrindo paginas Web\n",
    "Link = \"https://www.google.com.br\"\n",
    "Navegador.get(Link)"
   ]
  },
  {
   "cell_type": "code",
   "execution_count": null,
   "metadata": {},
   "outputs": [],
   "source": [
    "Navegador.quit()"
   ]
  },
  {
   "cell_type": "code",
   "execution_count": 24,
   "metadata": {},
   "outputs": [
    {
     "ename": "WebDriverException",
     "evalue": "Message: target frame detached\n  (failed to check if window was closed: disconnected: Unable to receive message from renderer)\n  (Session info: chrome=126.0.6478.127)\nStacktrace:\n\tGetHandleVerifier [0x010AC1C3+27395]\n\t(No symbol) [0x01043DC4]\n\t(No symbol) [0x00F419FD]\n\t(No symbol) [0x00F2D95F]\n\t(No symbol) [0x00F2BDE9]\n\t(No symbol) [0x00F2C3CD]\n\t(No symbol) [0x00F3870A]\n\t(No symbol) [0x00F4C851]\n\t(No symbol) [0x00F50CF6]\n\t(No symbol) [0x00F2CA3C]\n\t(No symbol) [0x00F4C46F]\n\t(No symbol) [0x00FBCDE9]\n\t(No symbol) [0x00FA3736]\n\t(No symbol) [0x00F77541]\n\t(No symbol) [0x00F780BD]\n\tGetHandleVerifier [0x01363A93+2876371]\n\tGetHandleVerifier [0x013B7F5D+3221661]\n\tGetHandleVerifier [0x0112D634+556916]\n\tGetHandleVerifier [0x0113474C+585868]\n\t(No symbol) [0x0104CE04]\n\t(No symbol) [0x01049818]\n\t(No symbol) [0x010499B7]\n\t(No symbol) [0x0103BF0E]\n\tBaseThreadInitThunk [0x767A7BA9+25]\n\tRtlInitializeExceptionChain [0x776FC10B+107]\n\tRtlClearBits [0x776FC08F+191]\n",
     "output_type": "error",
     "traceback": [
      "\u001b[1;31m---------------------------------------------------------------------------\u001b[0m",
      "\u001b[1;31mWebDriverException\u001b[0m                        Traceback (most recent call last)",
      "Cell \u001b[1;32mIn[24], line 22\u001b[0m\n\u001b[0;32m     19\u001b[0m url \u001b[38;5;241m=\u001b[39m \u001b[38;5;124m'\u001b[39m\u001b[38;5;124mhttps://www.youtube.com/watch?v=RS_fYWmsB_o&list=RDnayUYBqrweE&index=7\u001b[39m\u001b[38;5;124m'\u001b[39m\n\u001b[0;32m     21\u001b[0m \u001b[38;5;66;03m# Abrir a URL\u001b[39;00m\n\u001b[1;32m---> 22\u001b[0m \u001b[43mNavegador\u001b[49m\u001b[38;5;241;43m.\u001b[39;49m\u001b[43mget\u001b[49m\u001b[43m(\u001b[49m\u001b[43murl\u001b[49m\u001b[43m)\u001b[49m\n\u001b[0;32m     24\u001b[0m \u001b[38;5;66;03m# Esperar até que o vídeo esteja carregado\u001b[39;00m\n\u001b[0;32m     25\u001b[0m \u001b[38;5;28;01mtry\u001b[39;00m:\n",
      "File \u001b[1;32mc:\\Users\\Leticia\\AppData\\Local\\Programs\\Python\\Python312\\Lib\\site-packages\\selenium\\webdriver\\remote\\webdriver.py:363\u001b[0m, in \u001b[0;36mWebDriver.get\u001b[1;34m(self, url)\u001b[0m\n\u001b[0;32m    361\u001b[0m \u001b[38;5;28;01mdef\u001b[39;00m \u001b[38;5;21mget\u001b[39m(\u001b[38;5;28mself\u001b[39m, url: \u001b[38;5;28mstr\u001b[39m) \u001b[38;5;241m-\u001b[39m\u001b[38;5;241m>\u001b[39m \u001b[38;5;28;01mNone\u001b[39;00m:\n\u001b[0;32m    362\u001b[0m \u001b[38;5;250m    \u001b[39m\u001b[38;5;124;03m\"\"\"Loads a web page in the current browser session.\"\"\"\u001b[39;00m\n\u001b[1;32m--> 363\u001b[0m     \u001b[38;5;28;43mself\u001b[39;49m\u001b[38;5;241;43m.\u001b[39;49m\u001b[43mexecute\u001b[49m\u001b[43m(\u001b[49m\u001b[43mCommand\u001b[49m\u001b[38;5;241;43m.\u001b[39;49m\u001b[43mGET\u001b[49m\u001b[43m,\u001b[49m\u001b[43m \u001b[49m\u001b[43m{\u001b[49m\u001b[38;5;124;43m\"\u001b[39;49m\u001b[38;5;124;43murl\u001b[39;49m\u001b[38;5;124;43m\"\u001b[39;49m\u001b[43m:\u001b[49m\u001b[43m \u001b[49m\u001b[43murl\u001b[49m\u001b[43m}\u001b[49m\u001b[43m)\u001b[49m\n",
      "File \u001b[1;32mc:\\Users\\Leticia\\AppData\\Local\\Programs\\Python\\Python312\\Lib\\site-packages\\selenium\\webdriver\\remote\\webdriver.py:354\u001b[0m, in \u001b[0;36mWebDriver.execute\u001b[1;34m(self, driver_command, params)\u001b[0m\n\u001b[0;32m    352\u001b[0m response \u001b[38;5;241m=\u001b[39m \u001b[38;5;28mself\u001b[39m\u001b[38;5;241m.\u001b[39mcommand_executor\u001b[38;5;241m.\u001b[39mexecute(driver_command, params)\n\u001b[0;32m    353\u001b[0m \u001b[38;5;28;01mif\u001b[39;00m response:\n\u001b[1;32m--> 354\u001b[0m     \u001b[38;5;28;43mself\u001b[39;49m\u001b[38;5;241;43m.\u001b[39;49m\u001b[43merror_handler\u001b[49m\u001b[38;5;241;43m.\u001b[39;49m\u001b[43mcheck_response\u001b[49m\u001b[43m(\u001b[49m\u001b[43mresponse\u001b[49m\u001b[43m)\u001b[49m\n\u001b[0;32m    355\u001b[0m     response[\u001b[38;5;124m\"\u001b[39m\u001b[38;5;124mvalue\u001b[39m\u001b[38;5;124m\"\u001b[39m] \u001b[38;5;241m=\u001b[39m \u001b[38;5;28mself\u001b[39m\u001b[38;5;241m.\u001b[39m_unwrap_value(response\u001b[38;5;241m.\u001b[39mget(\u001b[38;5;124m\"\u001b[39m\u001b[38;5;124mvalue\u001b[39m\u001b[38;5;124m\"\u001b[39m, \u001b[38;5;28;01mNone\u001b[39;00m))\n\u001b[0;32m    356\u001b[0m     \u001b[38;5;28;01mreturn\u001b[39;00m response\n",
      "File \u001b[1;32mc:\\Users\\Leticia\\AppData\\Local\\Programs\\Python\\Python312\\Lib\\site-packages\\selenium\\webdriver\\remote\\errorhandler.py:229\u001b[0m, in \u001b[0;36mErrorHandler.check_response\u001b[1;34m(self, response)\u001b[0m\n\u001b[0;32m    227\u001b[0m         alert_text \u001b[38;5;241m=\u001b[39m value[\u001b[38;5;124m\"\u001b[39m\u001b[38;5;124malert\u001b[39m\u001b[38;5;124m\"\u001b[39m]\u001b[38;5;241m.\u001b[39mget(\u001b[38;5;124m\"\u001b[39m\u001b[38;5;124mtext\u001b[39m\u001b[38;5;124m\"\u001b[39m)\n\u001b[0;32m    228\u001b[0m     \u001b[38;5;28;01mraise\u001b[39;00m exception_class(message, screen, stacktrace, alert_text)  \u001b[38;5;66;03m# type: ignore[call-arg]  # mypy is not smart enough here\u001b[39;00m\n\u001b[1;32m--> 229\u001b[0m \u001b[38;5;28;01mraise\u001b[39;00m exception_class(message, screen, stacktrace)\n",
      "\u001b[1;31mWebDriverException\u001b[0m: Message: target frame detached\n  (failed to check if window was closed: disconnected: Unable to receive message from renderer)\n  (Session info: chrome=126.0.6478.127)\nStacktrace:\n\tGetHandleVerifier [0x010AC1C3+27395]\n\t(No symbol) [0x01043DC4]\n\t(No symbol) [0x00F419FD]\n\t(No symbol) [0x00F2D95F]\n\t(No symbol) [0x00F2BDE9]\n\t(No symbol) [0x00F2C3CD]\n\t(No symbol) [0x00F3870A]\n\t(No symbol) [0x00F4C851]\n\t(No symbol) [0x00F50CF6]\n\t(No symbol) [0x00F2CA3C]\n\t(No symbol) [0x00F4C46F]\n\t(No symbol) [0x00FBCDE9]\n\t(No symbol) [0x00FA3736]\n\t(No symbol) [0x00F77541]\n\t(No symbol) [0x00F780BD]\n\tGetHandleVerifier [0x01363A93+2876371]\n\tGetHandleVerifier [0x013B7F5D+3221661]\n\tGetHandleVerifier [0x0112D634+556916]\n\tGetHandleVerifier [0x0113474C+585868]\n\t(No symbol) [0x0104CE04]\n\t(No symbol) [0x01049818]\n\t(No symbol) [0x010499B7]\n\t(No symbol) [0x0103BF0E]\n\tBaseThreadInitThunk [0x767A7BA9+25]\n\tRtlInitializeExceptionChain [0x776FC10B+107]\n\tRtlClearBits [0x776FC08F+191]\n"
     ]
    }
   ],
   "source": [
    "from selenium import webdriver\n",
    "from selenium.webdriver.common.by import By\n",
    "from selenium.webdriver.support.ui import WebDriverWait\n",
    "from selenium.webdriver.support import expected_conditions as EC\n",
    "import chromedriver_autoinstaller\n",
    "\n",
    "# Instalar automaticamente a versão correta do chromedriver\n",
    "chromedriver_autoinstaller.install()\n",
    "\n",
    "# Configurar opções para o Chrome\n",
    "options = webdriver.ChromeOptions()\n",
    "options.add_argument(\"--disable-notifications\")  # Desativar notificações\n",
    "options.add_argument(\"--start-maximized\")  # Iniciar maximizado\n",
    "\n",
    "# Inicializar o WebDriver do Chrome com as opções configuradas\n",
    "Navegador = webdriver.Chrome(options=options)\n",
    "\n",
    "# URL do vídeo do YouTube\n",
    "url = 'https://www.youtube.com/watch?v=RS_fYWmsB_o&list=RDnayUYBqrweE&index=7'\n",
    "\n",
    "# Abrir a URL\n",
    "Navegador.get(url)\n",
    "\n",
    "# Esperar até que o vídeo esteja carregado\n",
    "try:\n",
    "    video_element = WebDriverWait(Navegador, 20).until(\n",
    "        EC.presence_of_element_located((By.ID, \"video-title\"))\n",
    "    )\n",
    "    print(\"Página carregada com sucesso\")\n",
    "except Exception as e:\n",
    "    print(\"Erro ao carregar a página:\", e)\n",
    "\n",
    "# Manter o navegador aberto por um tempo para verificar o resultado (opcional)\n",
    "import time\n",
    "time.sleep(10)  # Mantém o navegador aberto por 10 segundos\n",
    "\n",
    "# Fechar o navegador\n",
    "Navegador.quit()\n"
   ]
  }
 ],
 "metadata": {
  "kernelspec": {
   "display_name": "Python 3",
   "language": "python",
   "name": "python3"
  },
  "language_info": {
   "codemirror_mode": {
    "name": "ipython",
    "version": 3
   },
   "file_extension": ".py",
   "mimetype": "text/x-python",
   "name": "python",
   "nbconvert_exporter": "python",
   "pygments_lexer": "ipython3",
   "version": "3.12.1"
  },
  "orig_nbformat": 4
 },
 "nbformat": 4,
 "nbformat_minor": 2
}
