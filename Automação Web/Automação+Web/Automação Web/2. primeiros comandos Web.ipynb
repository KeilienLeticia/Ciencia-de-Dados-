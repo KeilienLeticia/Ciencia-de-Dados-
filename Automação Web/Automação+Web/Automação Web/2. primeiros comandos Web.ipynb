{
 "cells": [
  {
   "cell_type": "markdown",
   "metadata": {},
   "source": [
    "https://selenium-python.readthedocs.io/index.html"
   ]
  },
  {
   "cell_type": "code",
   "execution_count": 1,
   "metadata": {},
   "outputs": [
    {
     "data": {
      "text/plain": [
       "'c:\\\\Users\\\\Leticia\\\\AppData\\\\Local\\\\Programs\\\\Python\\\\Python312\\\\Lib\\\\site-packages\\\\chromedriver_autoinstaller\\\\127\\\\chromedriver.exe'"
      ]
     },
     "execution_count": 1,
     "metadata": {},
     "output_type": "execute_result"
    }
   ],
   "source": [
    "#esse codigo chrome o navegador\n",
    "from selenium import webdriver\n",
    "import chromedriver_autoinstaller\n",
    "from selenium.webdriver.common.by import By \n",
    "from time import sleep\n",
    "from selenium.webdriver.common.keys import Keys\n",
    "\n",
    "# Instalação automática do ChromeDriver (commicação entre cod e navegador)\n",
    "chromedriver_autoinstaller.install()\n",
    "\n",
    "# Inicializar o navegador Chrome\n",
    "# navegador = webdriver.Chrome() \n",
    "# # link= \"https://rpachallenge.com/\"\n",
    "# # navegador.get(link)"
   ]
  },
  {
   "cell_type": "code",
   "execution_count": 7,
   "metadata": {},
   "outputs": [],
   "source": [
    "\n",
    "# Inicializar o navegador Chrome\n",
    "# navegador = webdriver.Chrome()\n",
    "navegador = webdriver.Chrome()\n",
    "# Exemplo: abrindo paginas Web\n",
    "link= \"https://rpachallenge.com/\"\n",
    "navegador.get(link)\n",
    "#empresa = navegador.find_element(by= By.NAME,value=\"labelCompanyName\").send_keys(\"Teste\")\n",
    "#navegador.find_element(By.XPATH,'//*[@id=\"PQTvm\"]').send_keys('Leticia')\n",
    "sleep(10)"
   ]
  },
  {
   "cell_type": "code",
   "execution_count": 12,
   "metadata": {},
   "outputs": [],
   "source": [
    "#empresa = navegador.find_element(by= By.NAME,value=\"h3cT9\").send_keys(\"NOME\")\n"
   ]
  },
  {
   "cell_type": "code",
   "execution_count": 8,
   "metadata": {},
   "outputs": [],
   "source": [
    "First = navegador.find_element(By.XPATH, value='//*[@id=\"HiGek\"]').send_keys(\"Fereira camara\")"
   ]
  },
  {
   "cell_type": "code",
   "execution_count": 9,
   "metadata": {},
   "outputs": [],
   "source": [
    "Numero_celular=navegador.find_element(By.XPATH, value= '//*[@id=\"7PKMm\"]').send_keys('67 - 99166-1214')\n",
    "sleep(5) # vai demorar uns 5 segundo para carregar\n",
    "Enviar = navegador.find_element(By.XPATH, value='/html/body/app-root/div[2]/app-rpa1/div/div[2]/form/input')\n",
    "Enviar.click()  # enviar o formulario"
   ]
  },
  {
   "cell_type": "code",
   "execution_count": 23,
   "metadata": {},
   "outputs": [],
   "source": [
    "email = navegador.find_element(by= By.XPATH , value= '//*[@id=\"LydGt\"]').send_keys(\"keilien_letic@hotmail.com\")"
   ]
  },
  {
   "cell_type": "code",
   "execution_count": 28,
   "metadata": {},
   "outputs": [],
   "source": [
    "empresa = navegador.find_element(by= By.ID,value=\"h3cT9\")\n",
    "empresa.send_keys('Maria')\n",
    "#para apgar empresa.clear()\n"
   ]
  },
  {
   "cell_type": "code",
   "execution_count": null,
   "metadata": {},
   "outputs": [],
   "source": [
    "Cadastro= navegador.find_element(by = By.XPATH, value='//*[@id=\"Lg3GS\"]')\n",
    "Cadastro.send_keys(\"carlos\")"
   ]
  },
  {
   "cell_type": "code",
   "execution_count": null,
   "metadata": {},
   "outputs": [],
   "source": [
    "cadastro=navegador.find_element(by = By.ID, value=(\"Lg3GS\")).send_keys(\"teste\")"
   ]
  },
  {
   "cell_type": "code",
   "execution_count": null,
   "metadata": {},
   "outputs": [],
   "source": [
    "# from selenium import webdriver\n",
    "# from selenium.webdriver.common.by import By\n",
    "# from time import sleep\n",
    "# from selenium.webdriver.common.keys import Keys\n",
    "# import chromedriver_autoinstaller\n",
    "# chromedriver_autoinstaller.install()\n",
    "# Navegador = webdriver.Chrome()\n",
    "# url = 'https://www.youtube.com/watch?v=RS_fYWmsB_o&list=RDnayUYBqrweE&index=7'\n",
    "# Navegador.get(url)"
   ]
  },
  {
   "cell_type": "code",
   "execution_count": null,
   "metadata": {},
   "outputs": [],
   "source": [
    "#ng-reflect-name=\"labelEmail\" e mail \n",
    "#id=\"Lg3GS\"\n",
    "#//*[@id=\"Lg3GS\"]\n",
    "#<input _ngcontent-c2=\"\" ng-reflect-name=\"labelEmail\" id=\"Lg3GS\" name=\"Lg3GS\" class=\"ng-pristine ng-invalid ng-touched\">\n",
    "#"
   ]
  },
  {
   "cell_type": "code",
   "execution_count": null,
   "metadata": {},
   "outputs": [],
   "source": [
    "Cadastro= navegador.find_element(by=By.XPATH, '//*[@id=\"Lg3GS\"]')\n",
    "Cadastro.send_keys(\"679952558\")"
   ]
  },
  {
   "cell_type": "code",
   "execution_count": null,
   "metadata": {},
   "outputs": [],
   "source": [
    "sleep(5) # tempo de espera da pagina"
   ]
  },
  {
   "cell_type": "code",
   "execution_count": null,
   "metadata": {},
   "outputs": [],
   "source": [
    "#name=\"labelPhone\"\n",
    "#id=\"KqwVq\"\n",
    "# xpath = //*[@id=\"KqwVq\"] e o ID o nome \n",
    "# full xpath = /html/body/app-root/div[2]/app-rpa1/div/div[2]/form/div/div[1]/rpa1-field/div/input"
   ]
  },
  {
   "cell_type": "code",
   "execution_count": null,
   "metadata": {},
   "outputs": [],
   "source": [
    "empresa = navegador.find_element(by= By.ID,value=\"aG0qp\").send_keys(\"Teste\")"
   ]
  },
  {
   "cell_type": "code",
   "execution_count": null,
   "metadata": {},
   "outputs": [],
   "source": [
    "papelcompania = navegador.find_element(by= By.XPATH,value='//*[@id=\"FqJk1\"]')\n",
    "papelcompania.send_keys(\"Industrial\")\n",
    "\n"
   ]
  },
  {
   "cell_type": "code",
   "execution_count": null,
   "metadata": {},
   "outputs": [],
   "source": [
    "sobrenome = navegador.find_element(by= By.XPATH,value='//*[@id=\"MX8pg\"]')\n",
    "sobrenome.send_keys(\"Alves\")\n"
   ]
  },
  {
   "cell_type": "code",
   "execution_count": 5,
   "metadata": {},
   "outputs": [],
   "source": [
    "Enviar = navegador.find_element(by= By.XPATH,value='/html/body/app-root/div[2]/app-rpa1/div/div[2]/form/input')\n",
    "Enviar.click()\n"
   ]
  },
  {
   "cell_type": "code",
   "execution_count": 6,
   "metadata": {},
   "outputs": [],
   "source": [
    "sleep(5) # tempo de espera da pagina\n",
    "navegador.quit() # fechar a pagina"
   ]
  }
 ],
 "metadata": {
  "kernelspec": {
   "display_name": "Python 3",
   "language": "python",
   "name": "python3"
  },
  "language_info": {
   "codemirror_mode": {
    "name": "ipython",
    "version": 3
   },
   "file_extension": ".py",
   "mimetype": "text/x-python",
   "name": "python",
   "nbconvert_exporter": "python",
   "pygments_lexer": "ipython3",
   "version": "3.12.1"
  },
  "orig_nbformat": 4
 },
 "nbformat": 4,
 "nbformat_minor": 2
}
